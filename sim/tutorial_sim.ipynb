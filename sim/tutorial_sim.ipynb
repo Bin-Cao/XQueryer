{
 "cells": [
  {
   "cell_type": "markdown",
   "id": "fec41dc8-da5e-4ec4-984c-15bb0942bf93",
   "metadata": {},
   "source": [
    "**Set Up the Environment**:  \n",
    "Create a new Python environment with version `Python==3.9.19` and name it `xqueryer`.you can use `conda` \n",
    "\n",
    "\n",
    "```bash\n",
    "# Create a new environment named 'asugnn' with Python 3.9.19\n",
    "conda create -n xqueryer python=3.9.19\n",
    "\n",
    "# Activate the new environment\n",
    "conda activate xqueryer\n",
    "```\n",
    "\n",
    "**High-throughput simulation**:  \n",
    "```bash\n",
    "nohup python ht_simxrd.py\n",
    "```\n"
   ]
  },
  {
   "cell_type": "code",
   "execution_count": null,
   "id": "5ac5f33c-6b78-4696-9c2d-f2558f3a2018",
   "metadata": {},
   "outputs": [],
   "source": []
  }
 ],
 "metadata": {
  "kernelspec": {
   "display_name": "Python 3 (ipykernel)",
   "language": "python",
   "name": "python3"
  },
  "language_info": {
   "codemirror_mode": {
    "name": "ipython",
    "version": 3
   },
   "file_extension": ".py",
   "mimetype": "text/x-python",
   "name": "python",
   "nbconvert_exporter": "python",
   "pygments_lexer": "ipython3",
   "version": "3.11.7"
  }
 },
 "nbformat": 4,
 "nbformat_minor": 5
}
