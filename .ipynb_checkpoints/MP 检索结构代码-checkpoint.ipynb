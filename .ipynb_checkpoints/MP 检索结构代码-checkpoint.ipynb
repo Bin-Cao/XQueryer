{
 "cells": [
  {
   "cell_type": "code",
   "execution_count": 2,
   "id": "ed006353",
   "metadata": {},
   "outputs": [
    {
     "name": "stderr",
     "output_type": "stream",
     "text": [
      "/var/folders/jc/tqqw6tl5213fpq5xm6rjh78r0000gn/T/ipykernel_52106/634234338.py:5: DeprecationWarning: Accessing summary data through MPRester.summary is deprecated. Please use MPRester.materials.summary instead.\n",
      "  docs = mpr.summary.search(material_ids=[\"mp-861872\"])\n"
     ]
    },
    {
     "data": {
      "application/vnd.jupyter.widget-view+json": {
       "model_id": "865d951f74664ba8ac510f66f2879fc4",
       "version_major": 2,
       "version_minor": 0
      },
      "text/plain": [
       "Retrieving SummaryDoc documents:   0%|          | 0/1 [00:00<?, ?it/s]"
      ]
     },
     "metadata": {},
     "output_type": "display_data"
    }
   ],
   "source": [
    "from mp_api.client import MPRester\n",
    "\n",
    "with MPRester(api_key=\"O0EZBVkFbdM1Lcjg94q4TBPPmNkQKB8E\") as mpr:\n",
    "    # retrieve SummaryDocs for a list of materials\n",
    "    docs = mpr.summary.search(material_ids=[\"mp-861872\"])"
   ]
  },
  {
   "cell_type": "code",
   "execution_count": 3,
   "id": "23995035",
   "metadata": {},
   "outputs": [
    {
     "data": {
      "text/plain": [
       "[\u001b[4m\u001b[1mMPDataDoc<SummaryDoc>\u001b[0;0m\u001b[0;0m(\n",
       " \u001b[1mbuilder_meta\u001b[0;0m=EmmetMeta(emmet_version='0.72.20', pymatgen_version='2023.11.12', run_id=None, database_version='2023.11.1', build_date=datetime.datetime(2023, 11, 22, 19, 50, 43, 512000), license='BY-C'),\n",
       " \u001b[1mnsites\u001b[0;0m=4,\n",
       " \u001b[1melements\u001b[0;0m=[Element Ac, Element Ge, Element Hg],\n",
       " \u001b[1mnelements\u001b[0;0m=3,\n",
       " \u001b[1mcomposition\u001b[0;0m=Composition('Ac2 Hg1 Ge1'),\n",
       " \u001b[1mcomposition_reduced\u001b[0;0m=Composition('Ac2 Hg1 Ge1'),\n",
       " \u001b[1mformula_pretty\u001b[0;0m='Ac2HgGe',\n",
       " \u001b[1mformula_anonymous\u001b[0;0m='ABC2',\n",
       " \u001b[1mchemsys\u001b[0;0m='Ac-Ge-Hg',\n",
       " \u001b[1mvolume\u001b[0;0m=124.86821324902324,\n",
       " \u001b[1mdensity\u001b[0;0m=9.670946624304037,\n",
       " \u001b[1mdensity_atomic\u001b[0;0m=31.21705331225581,\n",
       " \u001b[1msymmetry\u001b[0;0m=SymmetryData(crystal_system=<CrystalSystem.cubic: 'Cubic'>, symbol='Fm-3m', number=225, point_group='m-3m', symprec=0.1, version='2.0.2'),\n",
       " \u001b[1mproperty_name\u001b[0;0m='summary',\n",
       " \u001b[1mmaterial_id\u001b[0;0m=MPID(mp-861872),\n",
       " \u001b[1mdeprecated\u001b[0;0m=False,\n",
       " \u001b[1mdeprecation_reasons\u001b[0;0m=None,\n",
       " \u001b[1mlast_updated\u001b[0;0m=datetime.datetime(2023, 11, 22, 19, 50, 43, 512000),\n",
       " \u001b[1morigins\u001b[0;0m=[PropertyOrigin(name='structure', task_id=MPID(mp-2046699), last_updated=datetime.datetime(2021, 3, 13, 20, 11, 49, 55000)), PropertyOrigin(name='energy', task_id=MPID(mp-2046699), last_updated=datetime.datetime(2023, 8, 3, 19, 12, 39, 582000)), PropertyOrigin(name='magnetism', task_id=MPID(mp-2046699), last_updated=datetime.datetime(2021, 3, 13, 20, 11, 49, 55000))],\n",
       " \u001b[1mwarnings\u001b[0;0m=[],\n",
       " \u001b[1mstructure\u001b[0;0m=Structure Summary\n",
       " Lattice\n",
       "     abc : 5.6103297840673685 5.6103297628541275 5.610329868920257\n",
       "  angles : 60.00017439996069 60.00017469180836 60.00017456673287\n",
       "  volume : 124.86821324902324\n",
       "       A : -1.046e-05 3.96710225 3.96710222\n",
       "       B : 3.96710224 -1.044e-05 3.9671022\n",
       "       C : 3.9671023 3.96710229 -1.05e-05\n",
       "     pbc : True True True\n",
       " PeriodicSite: Ac (3.174e-07, 2.777e-07, 2.777e-07) [3e-08, 4e-08, 4e-08]\n",
       " PeriodicSite: Ac (3.967, 3.967, 3.967) [0.5, 0.5, 0.5]\n",
       " PeriodicSite: Hg (5.951, 5.951, 5.951) [0.75, 0.75, 0.75]\n",
       " PeriodicSite: Ge (1.984, 1.984, 1.984) [0.25, 0.25, 0.25],\n",
       " \u001b[1mtask_ids\u001b[0;0m=[MPID(mp-2046699), MPID(mp-2045859), MPID(mp-2089360), MPID(mp-2728363), MPID(mp-1049585), MPID(mp-861872), MPID(mp-2308450), MPID(mp-1384353), MPID(mp-1757999), MPID(mp-2718320), MPID(mp-1049604), MPID(mp-2718309), MPID(mp-2718551), MPID(mp-1868849), MPID(mp-2718486), MPID(mp-2700801), MPID(mp-2718573), MPID(mp-1625182), MPID(mp-1049570)],\n",
       " \u001b[1muncorrected_energy_per_atom\u001b[0;0m=-50.71193587,\n",
       " \u001b[1menergy_per_atom\u001b[0;0m=-50.71193587,\n",
       " \u001b[1mformation_energy_per_atom\u001b[0;0m=-0.5832501381250026,\n",
       " \u001b[1menergy_above_hull\u001b[0;0m=0.0,\n",
       " \u001b[1mis_stable\u001b[0;0m=True,\n",
       " \u001b[1mequilibrium_reaction_energy_per_atom\u001b[0;0m=-0.2760603112499993,\n",
       " \u001b[1mdecomposes_to\u001b[0;0m=None,\n",
       " \u001b[1mxas\u001b[0;0m=None,\n",
       " \u001b[1mgrain_boundaries\u001b[0;0m=None,\n",
       " \u001b[1mband_gap\u001b[0;0m=0.0,\n",
       " \u001b[1mcbm\u001b[0;0m=None,\n",
       " \u001b[1mvbm\u001b[0;0m=None,\n",
       " \u001b[1mefermi\u001b[0;0m=5.6623405,\n",
       " \u001b[1mis_gap_direct\u001b[0;0m=False,\n",
       " \u001b[1mis_metal\u001b[0;0m=True,\n",
       " \u001b[1mes_source_calc_id\u001b[0;0m=None,\n",
       " \u001b[1mbandstructure\u001b[0;0m=BandstructureData(setyawan_curtarolo=BandStructureSummaryData(task_id=MPID(mp-1049604), band_gap=0.0, cbm=None, vbm=None, efermi=5.6623405, is_gap_direct=False, is_metal=True, magnetic_ordering='NM', nbands=36.0, equivalent_labels={'setyawan_curtarolo': {'latimer_munro': {'\\\\Gamma': 'Γ', 'K': 'q', 'L': 'a', 'U': 'q_{1}', 'W': 'r', 'X': 'd'}, 'hinuma': {'\\\\Gamma': 'GAMMA', 'K': 'K', 'L': 'L', 'U': 'U', 'W': 'W', 'X': 'X'}}, 'latimer_munro': {'setyawan_curtarolo': {'q': 'K', 'a': 'L', 'Γ': '\\\\Gamma', 'r': 'W', 'q_{1}': 'U', 'd': 'X'}, 'hinuma': {'q': 'K', 'a': 'L', 'Γ': 'GAMMA', 'r': 'W', 'q_{1}': 'U', 'd': 'X'}}, 'hinuma': {'setyawan_curtarolo': {'GAMMA': '\\\\Gamma', 'X': 'X', 'L': 'L', 'W': 'W', 'K': 'K', 'U': 'U', 'W_2': 'W^{*}'}, 'latimer_munro': {'GAMMA': 'Γ', 'X': 'd', 'L': 'a', 'W': 'r', 'K': 'q', 'U': 'q_{1}', 'W_2': 'r^{*}'}}}, direct_gap=0.0), hinuma=BandStructureSummaryData(task_id=MPID(mp-2089360), band_gap=0.0, cbm=None, vbm=None, efermi=5.90605284, is_gap_direct=False, is_metal=True, magnetic_ordering='NM', nbands=48.0, equivalent_labels={'setyawan_curtarolo': {'latimer_munro': {'\\\\Gamma': 'Γ', 'K': 'q', 'L': 'a', 'U': 'q_{1}', 'W': 'r', 'X': 'd'}, 'hinuma': {'\\\\Gamma': 'GAMMA', 'K': 'K', 'L': 'L', 'U': 'U', 'W': 'W', 'X': 'X'}}, 'latimer_munro': {'setyawan_curtarolo': {'r': 'W', 'q': 'K', 'Γ': '\\\\Gamma', 'a': 'L', 'q_{1}': 'U', 'd': 'X'}, 'hinuma': {'r': 'W', 'q': 'K', 'Γ': 'GAMMA', 'a': 'L', 'q_{1}': 'U', 'd': 'X'}}, 'hinuma': {'setyawan_curtarolo': {'GAMMA': '\\\\Gamma', 'X': 'X', 'L': 'L', 'W': 'W', 'K': 'K', 'U': 'U', 'W_2': 'W^{*}'}, 'latimer_munro': {'GAMMA': 'Γ', 'X': 'd', 'L': 'a', 'W': 'r', 'K': 'q', 'U': 'q_{1}', 'W_2': 'r^{*}'}}}, direct_gap=0.0), latimer_munro=BandStructureSummaryData(task_id=MPID(mp-2308450), band_gap=0.0, cbm=None, vbm=None, efermi=5.95804273, is_gap_direct=False, is_metal=True, magnetic_ordering='NM', nbands=48.0, equivalent_labels={'setyawan_curtarolo': {'latimer_munro': {'\\\\Gamma': 'Γ', 'K': 'q', 'L': 'a', 'U': 'q_{1}', 'W': 'r', 'X': 'd'}, 'hinuma': {'\\\\Gamma': 'GAMMA', 'K': 'K', 'L': 'L', 'U': 'U', 'W': 'W', 'X': 'X'}}, 'latimer_munro': {'setyawan_curtarolo': {'r': 'W', 'q': 'K', 'Γ': '\\\\Gamma', 'a': 'L', 'q_{1}': 'U', 'd': 'X'}, 'hinuma': {'r': 'W', 'q': 'K', 'Γ': 'GAMMA', 'a': 'L', 'q_{1}': 'U', 'd': 'X'}}, 'hinuma': {'setyawan_curtarolo': {'GAMMA': '\\\\Gamma', 'X': 'X', 'L': 'L', 'W': 'W', 'K': 'K', 'U': 'U', 'W_2': 'W^{*}'}, 'latimer_munro': {'GAMMA': 'Γ', 'X': 'd', 'L': 'a', 'W': 'r', 'K': 'q', 'U': 'q_{1}', 'W_2': 'r^{*}'}}}, direct_gap=0.0)),\n",
       " \u001b[1mdos\u001b[0;0m=DosData(total={'1': DosSummaryData(task_id=MPID(mp-1757999), band_gap=0.0, cbm=6.123, vbm=6.1464, efermi=6.13979435, spin_polarization=None)}, elemental={Element Ac: {'total': {'1': DosSummaryData(task_id=MPID(mp-1757999), band_gap=0.0, cbm=6.123, vbm=6.1464, efermi=6.13979435, spin_polarization=None)}, 's': {'1': DosSummaryData(task_id=MPID(mp-1757999), band_gap=0.0, cbm=6.123, vbm=6.1464, efermi=6.13979435, spin_polarization=None)}, 'p': {'1': DosSummaryData(task_id=MPID(mp-1757999), band_gap=0.0, cbm=6.123, vbm=6.1464, efermi=6.13979435, spin_polarization=None)}, 'd': {'1': DosSummaryData(task_id=MPID(mp-1757999), band_gap=0.0, cbm=6.123, vbm=6.1464, efermi=6.13979435, spin_polarization=None)}, 'f': {'1': DosSummaryData(task_id=MPID(mp-1757999), band_gap=0.0, cbm=6.123, vbm=6.1464, efermi=6.13979435, spin_polarization=None)}}, Element Hg: {'total': {'1': DosSummaryData(task_id=MPID(mp-1757999), band_gap=0.0, cbm=6.123, vbm=6.1464, efermi=6.13979435, spin_polarization=None)}, 's': {'1': DosSummaryData(task_id=MPID(mp-1757999), band_gap=0.0, cbm=6.123, vbm=6.1464, efermi=6.13979435, spin_polarization=None)}, 'p': {'1': DosSummaryData(task_id=MPID(mp-1757999), band_gap=0.0, cbm=6.123, vbm=6.1464, efermi=6.13979435, spin_polarization=None)}, 'd': {'1': DosSummaryData(task_id=MPID(mp-1757999), band_gap=0.0, cbm=6.123, vbm=6.1464, efermi=6.13979435, spin_polarization=None)}, 'f': {'1': DosSummaryData(task_id=MPID(mp-1757999), band_gap=46.8535, cbm=15.4, vbm=-31.4535, efermi=6.13979435, spin_polarization=None)}}, Element Ge: {'total': {'1': DosSummaryData(task_id=MPID(mp-1757999), band_gap=0.0, cbm=6.123, vbm=6.1464, efermi=6.13979435, spin_polarization=None)}, 's': {'1': DosSummaryData(task_id=MPID(mp-1757999), band_gap=0.0, cbm=6.123, vbm=6.1464, efermi=6.13979435, spin_polarization=None)}, 'p': {'1': DosSummaryData(task_id=MPID(mp-1757999), band_gap=0.0, cbm=6.123, vbm=6.1464, efermi=6.13979435, spin_polarization=None)}, 'd': {'1': DosSummaryData(task_id=MPID(mp-1757999), band_gap=0.0, cbm=6.123, vbm=6.1464, efermi=6.13979435, spin_polarization=None)}, 'f': {'1': DosSummaryData(task_id=MPID(mp-1757999), band_gap=46.8535, cbm=15.4, vbm=-31.4535, efermi=6.13979435, spin_polarization=None)}}}, orbital={'s': {'1': DosSummaryData(task_id=MPID(mp-1757999), band_gap=0.0, cbm=6.123, vbm=6.1464, efermi=6.13979435, spin_polarization=None)}, 'p': {'1': DosSummaryData(task_id=MPID(mp-1757999), band_gap=0.0, cbm=6.123, vbm=6.1464, efermi=6.13979435, spin_polarization=None)}, 'd': {'1': DosSummaryData(task_id=MPID(mp-1757999), band_gap=0.0, cbm=6.123, vbm=6.1464, efermi=6.13979435, spin_polarization=None)}}, magnetic_ordering='NM'),\n",
       " \u001b[1mdos_energy_up\u001b[0;0m=None,\n",
       " \u001b[1mdos_energy_down\u001b[0;0m=None,\n",
       " \u001b[1mis_magnetic\u001b[0;0m=False,\n",
       " \u001b[1mordering\u001b[0;0m='NM',\n",
       " \u001b[1mtotal_magnetization\u001b[0;0m=5e-07,\n",
       " \u001b[1mtotal_magnetization_normalized_vol\u001b[0;0m=4.004221626867166e-09,\n",
       " \u001b[1mtotal_magnetization_normalized_formula_units\u001b[0;0m=5e-07,\n",
       " \u001b[1mnum_magnetic_sites\u001b[0;0m=0,\n",
       " \u001b[1mnum_unique_magnetic_sites\u001b[0;0m=0,\n",
       " \u001b[1mtypes_of_magnetic_species\u001b[0;0m=[],\n",
       " \u001b[1mbulk_modulus\u001b[0;0m={'voigt': 47.445, 'reuss': 47.445, 'vrh': 47.445},\n",
       " \u001b[1mshear_modulus\u001b[0;0m={'voigt': 15.117, 'reuss': 14.717, 'vrh': 14.917},\n",
       " \u001b[1muniversal_anisotropy\u001b[0;0m=0.136,\n",
       " \u001b[1mhomogeneous_poisson\u001b[0;0m=0.358,\n",
       " \u001b[1me_total\u001b[0;0m=None,\n",
       " \u001b[1me_ionic\u001b[0;0m=None,\n",
       " \u001b[1me_electronic\u001b[0;0m=None,\n",
       " \u001b[1mn\u001b[0;0m=None,\n",
       " \u001b[1me_ij_max\u001b[0;0m=None,\n",
       " \u001b[1mweighted_surface_energy_EV_PER_ANG2\u001b[0;0m=None,\n",
       " \u001b[1mweighted_surface_energy\u001b[0;0m=None,\n",
       " \u001b[1mweighted_work_function\u001b[0;0m=None,\n",
       " \u001b[1msurface_anisotropy\u001b[0;0m=None,\n",
       " \u001b[1mshape_factor\u001b[0;0m=None,\n",
       " \u001b[1mhas_reconstructed\u001b[0;0m=None,\n",
       " \u001b[1mpossible_species\u001b[0;0m=[],\n",
       " \u001b[1mhas_props\u001b[0;0m={'materials': True, 'thermo': True, 'xas': False, 'grain_boundaries': False, 'chemenv': True, 'electronic_structure': True, 'absorption': False, 'bandstructure': True, 'dos': True, 'magnetism': True, 'elasticity': True, 'dielectric': False, 'piezoelectric': False, 'surface_properties': False, 'oxi_states': True, 'provenance': True, 'charge_density': True, 'eos': False, 'phonon': False, 'insertion_electrodes': False, 'substrates': True},\n",
       " \u001b[1mtheoretical\u001b[0;0m=True,\n",
       " \u001b[1mdatabase_IDs\u001b[0;0m={},\n",
       " \u001b[1mfields_not_requested\u001b[0;0m=[]\n",
       " )]"
      ]
     },
     "execution_count": 3,
     "metadata": {},
     "output_type": "execute_result"
    }
   ],
   "source": [
    "docs"
   ]
  },
  {
   "cell_type": "code",
   "execution_count": 1,
   "id": "ae097053",
   "metadata": {},
   "outputs": [
    {
     "name": "stdout",
     "output_type": "stream",
     "text": [
      "Collecting mp-api\n",
      "  Using cached mp_api-0.41.2-py3-none-any.whl.metadata (2.3 kB)\n",
      "Requirement already satisfied: setuptools in /Users/jacob/miniconda3/lib/python3.9/site-packages (from mp-api) (67.6.1)\n",
      "Requirement already satisfied: msgpack in /Users/jacob/miniconda3/lib/python3.9/site-packages (from mp-api) (1.0.5)\n",
      "Requirement already satisfied: maggma>=0.57.1 in /Users/jacob/miniconda3/lib/python3.9/site-packages (from mp-api) (0.69.0)\n",
      "Requirement already satisfied: pymatgen!=2024.2.20,>=2022.3.7 in /Users/jacob/miniconda3/lib/python3.9/site-packages (from mp-api) (2024.4.13)\n",
      "Requirement already satisfied: typing-extensions>=3.7.4.1 in /Users/jacob/miniconda3/lib/python3.9/site-packages (from mp-api) (4.12.2)\n",
      "Requirement already satisfied: requests>=2.23.0 in /Users/jacob/miniconda3/lib/python3.9/site-packages (from mp-api) (2.32.3)\n",
      "Requirement already satisfied: monty>=2023.9.25 in /Users/jacob/miniconda3/lib/python3.9/site-packages (from mp-api) (2024.5.24)\n",
      "Requirement already satisfied: emmet-core>=0.78.0rc3 in /Users/jacob/miniconda3/lib/python3.9/site-packages (from mp-api) (0.84.2rc0)\n",
      "Requirement already satisfied: smart-open in /Users/jacob/miniconda3/lib/python3.9/site-packages (from mp-api) (7.0.4)\n",
      "Requirement already satisfied: numpy<2 in /Users/jacob/miniconda3/lib/python3.9/site-packages (from emmet-core>=0.78.0rc3->mp-api) (1.26.4)\n",
      "Requirement already satisfied: pydantic>=2.0 in /Users/jacob/miniconda3/lib/python3.9/site-packages (from emmet-core>=0.78.0rc3->mp-api) (2.8.2)\n",
      "Requirement already satisfied: pydantic-settings>=2.0 in /Users/jacob/miniconda3/lib/python3.9/site-packages (from emmet-core>=0.78.0rc3->mp-api) (2.3.4)\n",
      "Requirement already satisfied: pybtex~=0.24 in /Users/jacob/miniconda3/lib/python3.9/site-packages (from emmet-core>=0.78.0rc3->mp-api) (0.24.0)\n",
      "Requirement already satisfied: matplotlib>=1.5 in /Users/jacob/miniconda3/lib/python3.9/site-packages (from pymatgen!=2024.2.20,>=2022.3.7->mp-api) (3.7.1)\n",
      "Requirement already satisfied: networkx>=2.2 in /Users/jacob/miniconda3/lib/python3.9/site-packages (from pymatgen!=2024.2.20,>=2022.3.7->mp-api) (2.8.8)\n",
      "Requirement already satisfied: palettable>=3.1.1 in /Users/jacob/miniconda3/lib/python3.9/site-packages (from pymatgen!=2024.2.20,>=2022.3.7->mp-api) (3.3.3)\n",
      "Requirement already satisfied: pandas in /Users/jacob/miniconda3/lib/python3.9/site-packages (from pymatgen!=2024.2.20,>=2022.3.7->mp-api) (2.2.2)\n",
      "Requirement already satisfied: plotly>=4.5.0 in /Users/jacob/miniconda3/lib/python3.9/site-packages (from pymatgen!=2024.2.20,>=2022.3.7->mp-api) (5.14.1)\n",
      "Requirement already satisfied: ruamel.yaml>=0.17.0 in /Users/jacob/miniconda3/lib/python3.9/site-packages (from pymatgen!=2024.2.20,>=2022.3.7->mp-api) (0.17.21)\n",
      "Requirement already satisfied: scipy>=1.5.0 in /Users/jacob/miniconda3/lib/python3.9/site-packages (from pymatgen!=2024.2.20,>=2022.3.7->mp-api) (1.13.0)\n",
      "Requirement already satisfied: spglib>=2.0.2 in /Users/jacob/miniconda3/lib/python3.9/site-packages (from pymatgen!=2024.2.20,>=2022.3.7->mp-api) (2.0.2)\n",
      "Requirement already satisfied: sympy in /Users/jacob/miniconda3/lib/python3.9/site-packages (from pymatgen!=2024.2.20,>=2022.3.7->mp-api) (1.11.1)\n",
      "Requirement already satisfied: tabulate in /Users/jacob/miniconda3/lib/python3.9/site-packages (from pymatgen!=2024.2.20,>=2022.3.7->mp-api) (0.9.0)\n",
      "Requirement already satisfied: tqdm in /Users/jacob/miniconda3/lib/python3.9/site-packages (from pymatgen!=2024.2.20,>=2022.3.7->mp-api) (4.66.4)\n",
      "Requirement already satisfied: uncertainties>=3.1.4 in /Users/jacob/miniconda3/lib/python3.9/site-packages (from pymatgen!=2024.2.20,>=2022.3.7->mp-api) (3.1.7)\n",
      "Requirement already satisfied: joblib in /Users/jacob/miniconda3/lib/python3.9/site-packages (from pymatgen!=2024.2.20,>=2022.3.7->mp-api) (1.2.0)\n",
      "Requirement already satisfied: pymongo>=4.2.0 in /Users/jacob/miniconda3/lib/python3.9/site-packages (from maggma>=0.57.1->mp-api) (4.8.0)\n",
      "Requirement already satisfied: mongomock>=3.10.0 in /Users/jacob/miniconda3/lib/python3.9/site-packages (from maggma>=0.57.1->mp-api) (4.1.2)\n",
      "Requirement already satisfied: pydash>=4.1.0 in /Users/jacob/miniconda3/lib/python3.9/site-packages (from maggma>=0.57.1->mp-api) (8.0.1)\n",
      "Requirement already satisfied: jsonschema>=3.1.1 in /Users/jacob/miniconda3/lib/python3.9/site-packages (from maggma>=0.57.1->mp-api) (4.17.1)\n",
      "Requirement already satisfied: jsonlines>=4.0.0 in /Users/jacob/miniconda3/lib/python3.9/site-packages (from maggma>=0.57.1->mp-api) (4.0.0)\n",
      "Requirement already satisfied: aioitertools>=0.5.1 in /Users/jacob/miniconda3/lib/python3.9/site-packages (from maggma>=0.57.1->mp-api) (0.11.0)\n",
      "Requirement already satisfied: pyzmq>=24.0.1 in /Users/jacob/miniconda3/lib/python3.9/site-packages (from maggma>=0.57.1->mp-api) (24.0.1)\n",
      "Requirement already satisfied: dnspython>=1.16.0 in /Users/jacob/miniconda3/lib/python3.9/site-packages (from maggma>=0.57.1->mp-api) (2.6.1)\n",
      "Requirement already satisfied: sshtunnel>=0.1.5 in /Users/jacob/miniconda3/lib/python3.9/site-packages (from maggma>=0.57.1->mp-api) (0.4.0)\n",
      "Requirement already satisfied: orjson>=3.9.0 in /Users/jacob/miniconda3/lib/python3.9/site-packages (from maggma>=0.57.1->mp-api) (3.10.6)\n",
      "Requirement already satisfied: boto3>=1.20.41 in /Users/jacob/miniconda3/lib/python3.9/site-packages (from maggma>=0.57.1->mp-api) (1.34.143)\n",
      "Requirement already satisfied: python-dateutil>=2.8.2 in /Users/jacob/miniconda3/lib/python3.9/site-packages (from maggma>=0.57.1->mp-api) (2.8.2)\n",
      "Requirement already satisfied: charset-normalizer<4,>=2 in /Users/jacob/miniconda3/lib/python3.9/site-packages (from requests>=2.23.0->mp-api) (2.0.4)\n",
      "Requirement already satisfied: idna<4,>=2.5 in /Users/jacob/miniconda3/lib/python3.9/site-packages (from requests>=2.23.0->mp-api) (3.3)\n",
      "Requirement already satisfied: urllib3<3,>=1.21.1 in /Users/jacob/miniconda3/lib/python3.9/site-packages (from requests>=2.23.0->mp-api) (1.26.9)\n",
      "Requirement already satisfied: certifi>=2017.4.17 in /Users/jacob/miniconda3/lib/python3.9/site-packages (from requests>=2.23.0->mp-api) (2024.6.2)\n",
      "Requirement already satisfied: wrapt in /Users/jacob/miniconda3/lib/python3.9/site-packages (from smart-open->mp-api) (1.14.1)\n",
      "Requirement already satisfied: botocore<1.35.0,>=1.34.143 in /Users/jacob/miniconda3/lib/python3.9/site-packages (from boto3>=1.20.41->maggma>=0.57.1->mp-api) (1.34.143)\n",
      "Requirement already satisfied: jmespath<2.0.0,>=0.7.1 in /Users/jacob/miniconda3/lib/python3.9/site-packages (from boto3>=1.20.41->maggma>=0.57.1->mp-api) (1.0.1)\n",
      "Requirement already satisfied: s3transfer<0.11.0,>=0.10.0 in /Users/jacob/miniconda3/lib/python3.9/site-packages (from boto3>=1.20.41->maggma>=0.57.1->mp-api) (0.10.2)\n",
      "Requirement already satisfied: attrs>=19.2.0 in /Users/jacob/miniconda3/lib/python3.9/site-packages (from jsonlines>=4.0.0->maggma>=0.57.1->mp-api) (23.2.0)\n",
      "Requirement already satisfied: pyrsistent!=0.17.0,!=0.17.1,!=0.17.2,>=0.14.0 in /Users/jacob/miniconda3/lib/python3.9/site-packages (from jsonschema>=3.1.1->maggma>=0.57.1->mp-api) (0.19.2)\n",
      "Requirement already satisfied: contourpy>=1.0.1 in /Users/jacob/miniconda3/lib/python3.9/site-packages (from matplotlib>=1.5->pymatgen!=2024.2.20,>=2022.3.7->mp-api) (1.0.5)\n",
      "Requirement already satisfied: cycler>=0.10 in /Users/jacob/miniconda3/lib/python3.9/site-packages (from matplotlib>=1.5->pymatgen!=2024.2.20,>=2022.3.7->mp-api) (0.11.0)\n",
      "Requirement already satisfied: fonttools>=4.22.0 in /Users/jacob/miniconda3/lib/python3.9/site-packages (from matplotlib>=1.5->pymatgen!=2024.2.20,>=2022.3.7->mp-api) (4.38.0)\n",
      "Requirement already satisfied: kiwisolver>=1.0.1 in /Users/jacob/miniconda3/lib/python3.9/site-packages (from matplotlib>=1.5->pymatgen!=2024.2.20,>=2022.3.7->mp-api) (1.4.4)\n",
      "Requirement already satisfied: packaging>=20.0 in /Users/jacob/miniconda3/lib/python3.9/site-packages (from matplotlib>=1.5->pymatgen!=2024.2.20,>=2022.3.7->mp-api) (23.0)\n",
      "Requirement already satisfied: pillow>=6.2.0 in /Users/jacob/miniconda3/lib/python3.9/site-packages (from matplotlib>=1.5->pymatgen!=2024.2.20,>=2022.3.7->mp-api) (9.5.0)\n",
      "Requirement already satisfied: pyparsing>=2.3.1 in /Users/jacob/miniconda3/lib/python3.9/site-packages (from matplotlib>=1.5->pymatgen!=2024.2.20,>=2022.3.7->mp-api) (3.0.9)\n",
      "Requirement already satisfied: importlib-resources>=3.2.0 in /Users/jacob/miniconda3/lib/python3.9/site-packages (from matplotlib>=1.5->pymatgen!=2024.2.20,>=2022.3.7->mp-api) (5.12.0)\n",
      "Requirement already satisfied: sentinels in /Users/jacob/miniconda3/lib/python3.9/site-packages (from mongomock>=3.10.0->maggma>=0.57.1->mp-api) (1.0.0)\n",
      "Requirement already satisfied: pytz>=2020.1 in /Users/jacob/miniconda3/lib/python3.9/site-packages (from pandas->pymatgen!=2024.2.20,>=2022.3.7->mp-api) (2022.5)\n"
     ]
    },
    {
     "name": "stdout",
     "output_type": "stream",
     "text": [
      "Requirement already satisfied: tzdata>=2022.7 in /Users/jacob/miniconda3/lib/python3.9/site-packages (from pandas->pymatgen!=2024.2.20,>=2022.3.7->mp-api) (2023.3)\n",
      "Requirement already satisfied: tenacity>=6.2.0 in /Users/jacob/miniconda3/lib/python3.9/site-packages (from plotly>=4.5.0->pymatgen!=2024.2.20,>=2022.3.7->mp-api) (8.2.2)\n",
      "Requirement already satisfied: PyYAML>=3.01 in /Users/jacob/miniconda3/lib/python3.9/site-packages (from pybtex~=0.24->emmet-core>=0.78.0rc3->mp-api) (6.0)\n",
      "Requirement already satisfied: latexcodec>=1.0.4 in /Users/jacob/miniconda3/lib/python3.9/site-packages (from pybtex~=0.24->emmet-core>=0.78.0rc3->mp-api) (2.0.1)\n",
      "Requirement already satisfied: six in /Users/jacob/miniconda3/lib/python3.9/site-packages (from pybtex~=0.24->emmet-core>=0.78.0rc3->mp-api) (1.16.0)\n",
      "Requirement already satisfied: annotated-types>=0.4.0 in /Users/jacob/miniconda3/lib/python3.9/site-packages (from pydantic>=2.0->emmet-core>=0.78.0rc3->mp-api) (0.7.0)\n",
      "Requirement already satisfied: pydantic-core==2.20.1 in /Users/jacob/miniconda3/lib/python3.9/site-packages (from pydantic>=2.0->emmet-core>=0.78.0rc3->mp-api) (2.20.1)\n",
      "Requirement already satisfied: python-dotenv>=0.21.0 in /Users/jacob/miniconda3/lib/python3.9/site-packages (from pydantic-settings>=2.0->emmet-core>=0.78.0rc3->mp-api) (1.0.1)\n",
      "Requirement already satisfied: ruamel.yaml.clib>=0.2.6 in /Users/jacob/miniconda3/lib/python3.9/site-packages (from ruamel.yaml>=0.17.0->pymatgen!=2024.2.20,>=2022.3.7->mp-api) (0.2.6)\n",
      "Requirement already satisfied: paramiko>=2.7.2 in /Users/jacob/miniconda3/lib/python3.9/site-packages (from sshtunnel>=0.1.5->maggma>=0.57.1->mp-api) (3.4.0)\n",
      "Requirement already satisfied: future in /Users/jacob/miniconda3/lib/python3.9/site-packages (from uncertainties>=3.1.4->pymatgen!=2024.2.20,>=2022.3.7->mp-api) (0.18.3)\n",
      "Requirement already satisfied: mpmath>=0.19 in /Users/jacob/miniconda3/lib/python3.9/site-packages (from sympy->pymatgen!=2024.2.20,>=2022.3.7->mp-api) (1.3.0)\n",
      "Requirement already satisfied: zipp>=3.1.0 in /Users/jacob/miniconda3/lib/python3.9/site-packages (from importlib-resources>=3.2.0->matplotlib>=1.5->pymatgen!=2024.2.20,>=2022.3.7->mp-api) (3.17.0)\n",
      "Requirement already satisfied: bcrypt>=3.2 in /Users/jacob/miniconda3/lib/python3.9/site-packages (from paramiko>=2.7.2->sshtunnel>=0.1.5->maggma>=0.57.1->mp-api) (4.0.1)\n",
      "Requirement already satisfied: cryptography>=3.3 in /Users/jacob/miniconda3/lib/python3.9/site-packages (from paramiko>=2.7.2->sshtunnel>=0.1.5->maggma>=0.57.1->mp-api) (37.0.1)\n",
      "Requirement already satisfied: pynacl>=1.5 in /Users/jacob/miniconda3/lib/python3.9/site-packages (from paramiko>=2.7.2->sshtunnel>=0.1.5->maggma>=0.57.1->mp-api) (1.5.0)\n",
      "Requirement already satisfied: cffi>=1.12 in /Users/jacob/miniconda3/lib/python3.9/site-packages (from cryptography>=3.3->paramiko>=2.7.2->sshtunnel>=0.1.5->maggma>=0.57.1->mp-api) (1.15.0)\n",
      "Requirement already satisfied: pycparser in /Users/jacob/miniconda3/lib/python3.9/site-packages (from cffi>=1.12->cryptography>=3.3->paramiko>=2.7.2->sshtunnel>=0.1.5->maggma>=0.57.1->mp-api) (2.21)\n",
      "Using cached mp_api-0.41.2-py3-none-any.whl (97 kB)\n",
      "Installing collected packages: mp-api\n",
      "Successfully installed mp-api-0.41.2\n",
      "\n",
      "\u001b[1m[\u001b[0m\u001b[34;49mnotice\u001b[0m\u001b[1;39;49m]\u001b[0m\u001b[39;49m A new release of pip is available: \u001b[0m\u001b[31;49m24.1.1\u001b[0m\u001b[39;49m -> \u001b[0m\u001b[32;49m24.1.2\u001b[0m\n",
      "\u001b[1m[\u001b[0m\u001b[34;49mnotice\u001b[0m\u001b[1;39;49m]\u001b[0m\u001b[39;49m To update, run: \u001b[0m\u001b[32;49mpython -m pip install --upgrade pip\u001b[0m\n",
      "Note: you may need to restart the kernel to use updated packages.\n"
     ]
    }
   ],
   "source": [
    "pip install mp-api "
   ]
  },
  {
   "cell_type": "code",
   "execution_count": null,
   "id": "3686e01c",
   "metadata": {},
   "outputs": [],
   "source": []
  }
 ],
 "metadata": {
  "kernelspec": {
   "display_name": "Python (py11)",
   "language": "python",
   "name": "py11"
  },
  "language_info": {
   "codemirror_mode": {
    "name": "ipython",
    "version": 3
   },
   "file_extension": ".py",
   "mimetype": "text/x-python",
   "name": "python",
   "nbconvert_exporter": "python",
   "pygments_lexer": "ipython3",
   "version": "3.9.12"
  }
 },
 "nbformat": 4,
 "nbformat_minor": 5
}
