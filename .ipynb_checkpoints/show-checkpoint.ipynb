{
 "cells": [
  {
   "cell_type": "code",
   "execution_count": 1,
   "id": "ed006353",
   "metadata": {},
   "outputs": [
    {
     "name": "stderr",
     "output_type": "stream",
     "text": [
      "/var/folders/jc/tqqw6tl5213fpq5xm6rjh78r0000gn/T/ipykernel_7159/634234338.py:5: DeprecationWarning: Accessing summary data through MPRester.summary is deprecated. Please use MPRester.materials.summary instead.\n",
      "  docs = mpr.summary.search(material_ids=[\"mp-861872\"])\n"
     ]
    },
    {
     "data": {
      "application/vnd.jupyter.widget-view+json": {
       "model_id": "50eeea0ad00743a89a641ad8ad48d941",
       "version_major": 2,
       "version_minor": 0
      },
      "text/plain": [
       "Retrieving SummaryDoc documents:   0%|          | 0/1 [00:00<?, ?it/s]"
      ]
     },
     "metadata": {},
     "output_type": "display_data"
    }
   ],
   "source": [
    "from mp_api.client import MPRester\n",
    "\n",
    "with MPRester(api_key=\"O0EZBVkFbdM1Lcjg94q4TBPPmNkQKB8E\") as mpr:\n",
    "    # retrieve SummaryDocs for a list of materials\n",
    "    docs = mpr.summary.search(material_ids=[\"mp-861872\"])"
   ]
  },
  {
   "cell_type": "code",
   "execution_count": 15,
   "id": "6aea3cd0-13ae-4dcb-96f1-b09123d8aa87",
   "metadata": {},
   "outputs": [],
   "source": [
    "from pymatgen.symmetry.analyzer import SpacegroupAnalyzer\n",
    "\n",
    "def printout(docs):\n",
    "    structure = docs[0].structure\n",
    "    \n",
    "    sga = SpacegroupAnalyzer(structure)\n",
    "    conventional_structure = sga.get_conventional_standard_structure()\n",
    "\n",
    "    \n",
    "    # Output crystallographic information with 5 significant figures\n",
    "    print(\"Conventional Lattice parameters:\")\n",
    "    print(f\"a: {conventional_structure.lattice.a:.5g}, b: {conventional_structure.lattice.b:.5g}, c: {conventional_structure.lattice.c:.5g}\")\n",
    "    print(f\"Alpha: {conventional_structure.lattice.alpha:.5g}, Beta: {conventional_structure.lattice.beta:.5g}, Gamma: {conventional_structure.lattice.gamma:.5g}\")\n",
    "    \n",
    "    print(\"\\nConventional Space group:\")\n",
    "    print(f\"Symbol: {conventional_structure.get_space_group_info()[0]}, Number: {conventional_structure.get_space_group_info()[1]}\")\n",
    "    \n",
    "    print(\"\\nAtomic positions (fractional coordinates):\")\n",
    "    for site in conventional_structure:\n",
    "        coords = site.frac_coords\n",
    "        print(f\"Element: {site.species_string}, Coordinates: [{coords[0]:.5g}, {coords[1]:.5g}, {coords[2]:.5g}]\")\n",
    "    \n",
    "    \n",
    "    return None"
   ]
  },
  {
   "cell_type": "code",
   "execution_count": 16,
   "id": "a4cb71cc-6db5-45de-92c5-4f4cd40ed298",
   "metadata": {},
   "outputs": [
    {
     "name": "stdout",
     "output_type": "stream",
     "text": [
      "Conventional Lattice parameters:\n",
      "a: 7.9342, b: 7.9342, c: 7.9342\n",
      "Alpha: 90, Beta: 90, Gamma: 90\n",
      "\n",
      "Conventional Space group:\n",
      "Symbol: Fm-3m, Number: 225\n",
      "\n",
      "Atomic positions (fractional coordinates):\n",
      "Element: Ac, Coordinates: [0.25, 0.25, 0.25]\n",
      "Element: Ac, Coordinates: [0.75, 0.75, 0.75]\n",
      "Element: Ac, Coordinates: [0.25, 0.75, 0.75]\n",
      "Element: Ac, Coordinates: [0.75, 0.25, 0.25]\n",
      "Element: Ac, Coordinates: [0.75, 0.25, 0.75]\n",
      "Element: Ac, Coordinates: [0.25, 0.75, 0.25]\n",
      "Element: Ac, Coordinates: [0.75, 0.75, 0.25]\n",
      "Element: Ac, Coordinates: [0.25, 0.25, 0.75]\n",
      "Element: Hg, Coordinates: [0, 0, 0]\n",
      "Element: Hg, Coordinates: [0, 0.5, 0.5]\n",
      "Element: Hg, Coordinates: [0.5, 0, 0.5]\n",
      "Element: Hg, Coordinates: [0.5, 0.5, 0]\n",
      "Element: Ge, Coordinates: [0.5, 0.5, 0.5]\n",
      "Element: Ge, Coordinates: [0.5, 0, 0]\n",
      "Element: Ge, Coordinates: [0, 0.5, 0]\n",
      "Element: Ge, Coordinates: [0, 0, 0.5]\n"
     ]
    }
   ],
   "source": [
    "printout(docs)"
   ]
  },
  {
   "cell_type": "code",
   "execution_count": null,
   "id": "1b23d9eb-05cc-456c-9d24-b9f054d40373",
   "metadata": {},
   "outputs": [],
   "source": []
  },
  {
   "cell_type": "code",
   "execution_count": null,
   "id": "d25cb74e-a56b-4e09-a7a7-3e02e6fbdcdd",
   "metadata": {},
   "outputs": [],
   "source": []
  }
 ],
 "metadata": {
  "kernelspec": {
   "display_name": "Python (py11)",
   "language": "python",
   "name": "py11"
  },
  "language_info": {
   "codemirror_mode": {
    "name": "ipython",
    "version": 3
   },
   "file_extension": ".py",
   "mimetype": "text/x-python",
   "name": "python",
   "nbconvert_exporter": "python",
   "pygments_lexer": "ipython3",
   "version": "3.9.19"
  }
 },
 "nbformat": 4,
 "nbformat_minor": 5
}
