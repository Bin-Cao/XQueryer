{
 "cells": [
  {
   "cell_type": "code",
   "execution_count": 1,
   "id": "65e0b392",
   "metadata": {},
   "outputs": [
    {
     "name": "stderr",
     "output_type": "stream",
     "text": [
      "Reading to Database: 100%|█████████████████████| 10/10 [00:00<00:00, 181.93it/s]\n"
     ]
    }
   ],
   "source": [
    "from ase.db import connect\n",
    "from tqdm import tqdm\n",
    "\n",
    "# Connect to the database\n",
    "database = connect('train.db')\n",
    "\n",
    "# Count the total number of entries in the database\n",
    "total_entries = database.count()\n",
    "\n",
    "sdb = connect('small_train.db')\n",
    "# Iterate over each entry and extract 'Label' and 'mpid'\n",
    "for i in tqdm(range(10), desc='Reading to Database'):\n",
    "    _id = i + 1\n",
    "    atoms = database.get_atoms(id=_id)\n",
    "    \n",
    "    Label = database.get(id=_id)['Label']\n",
    "    latt_dis = database.get(id=_id)['latt_dis']\n",
    "    intensity = database.get(id=_id)['intensity']\n",
    "    simulation_param = database.get(id=_id)['simulation_param']\n",
    "    \n",
    "    sdb.write(atoms=atoms, latt_dis=latt_dis, intensity=intensity, Label=Label,\n",
    "                         simulation_param=simulation_param)\n",
    "    \n",
    "    \n",
    "  "
   ]
  },
  {
   "cell_type": "code",
   "execution_count": null,
   "id": "42262ae2",
   "metadata": {},
   "outputs": [],
   "source": []
  }
 ],
 "metadata": {
  "kernelspec": {
   "display_name": "Python 3 (ipykernel)",
   "language": "python",
   "name": "python3"
  },
  "language_info": {
   "codemirror_mode": {
    "name": "ipython",
    "version": 3
   },
   "file_extension": ".py",
   "mimetype": "text/x-python",
   "name": "python",
   "nbconvert_exporter": "python",
   "pygments_lexer": "ipython3",
   "version": "3.9.12"
  }
 },
 "nbformat": 4,
 "nbformat_minor": 5
}
