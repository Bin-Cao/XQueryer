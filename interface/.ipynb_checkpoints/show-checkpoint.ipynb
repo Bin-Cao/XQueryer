{
 "cells": [
  {
   "cell_type": "code",
   "execution_count": 2,
   "id": "ed006353",
   "metadata": {},
   "outputs": [
    {
     "name": "stderr",
     "output_type": "stream",
     "text": [
      "C:\\Users\\binja\\AppData\\Local\\Temp\\ipykernel_3584\\1165377750.py:5: DeprecationWarning: Accessing summary data through MPRester.summary is deprecated. Please use MPRester.materials.summary instead.\n",
      "  docs = mpr.summary.search(material_ids=\"mp-861872\")\n"
     ]
    },
    {
     "ename": "AttributeError",
     "evalue": "property 'model_fields' of 'ModelMetaclass' object has no setter",
     "output_type": "error",
     "traceback": [
      "\u001b[1;31m---------------------------------------------------------------------------\u001b[0m",
      "\u001b[1;31mAttributeError\u001b[0m                            Traceback (most recent call last)",
      "Cell \u001b[1;32mIn[2], line 5\u001b[0m\n\u001b[0;32m      1\u001b[0m \u001b[38;5;28;01mfrom\u001b[39;00m \u001b[38;5;21;01mmp_api\u001b[39;00m\u001b[38;5;21;01m.\u001b[39;00m\u001b[38;5;21;01mclient\u001b[39;00m \u001b[38;5;28;01mimport\u001b[39;00m MPRester\n\u001b[0;32m      3\u001b[0m \u001b[38;5;28;01mwith\u001b[39;00m MPRester(api_key\u001b[38;5;241m=\u001b[39m\u001b[38;5;124m\"\u001b[39m\u001b[38;5;124mO0EZBVkFbdM1Lcjg94q4TBPPmNkQKB8E\u001b[39m\u001b[38;5;124m\"\u001b[39m) \u001b[38;5;28;01mas\u001b[39;00m mpr:\n\u001b[0;32m      4\u001b[0m     \u001b[38;5;66;03m# retrieve SummaryDocs for a list of materials\u001b[39;00m\n\u001b[1;32m----> 5\u001b[0m     docs \u001b[38;5;241m=\u001b[39m mpr\u001b[38;5;241m.\u001b[39msummary\u001b[38;5;241m.\u001b[39msearch(material_ids\u001b[38;5;241m=\u001b[39m\u001b[38;5;124m\"\u001b[39m\u001b[38;5;124mmp-861872\u001b[39m\u001b[38;5;124m\"\u001b[39m)\n",
      "File \u001b[1;32m~\\anaconda3\\Lib\\site-packages\\mp_api\\client\\routes\\materials\\summary.py:267\u001b[0m, in \u001b[0;36mSummaryRester.search\u001b[1;34m(self, band_gap, chemsys, crystal_system, density, deprecated, e_electronic, e_ionic, e_total, efermi, elastic_anisotropy, elements, energy_above_hull, equilibrium_reaction_energy, exclude_elements, formation_energy, formula, g_reuss, g_voigt, g_vrh, has_props, has_reconstructed, is_gap_direct, is_metal, is_stable, k_reuss, k_voigt, k_vrh, magnetic_ordering, material_ids, n, num_elements, num_sites, num_magnetic_sites, num_unique_magnetic_sites, piezoelectric_modulus, poisson_ratio, possible_species, shape_factor, spacegroup_number, spacegroup_symbol, surface_energy_anisotropy, theoretical, total_energy, total_magnetization, total_magnetization_normalized_formula_units, total_magnetization_normalized_vol, uncorrected_energy, volume, weighted_surface_energy, weighted_work_function, num_chunks, chunk_size, all_fields, fields)\u001b[0m\n\u001b[0;32m    259\u001b[0m     query_params\u001b[38;5;241m.\u001b[39mupdate({\u001b[38;5;124m\"\u001b[39m\u001b[38;5;124mtheoretical\u001b[39m\u001b[38;5;124m\"\u001b[39m: theoretical})\n\u001b[0;32m    261\u001b[0m query_params \u001b[38;5;241m=\u001b[39m {\n\u001b[0;32m    262\u001b[0m     entry: query_params[entry]\n\u001b[0;32m    263\u001b[0m     \u001b[38;5;28;01mfor\u001b[39;00m entry \u001b[38;5;129;01min\u001b[39;00m query_params\n\u001b[0;32m    264\u001b[0m     \u001b[38;5;28;01mif\u001b[39;00m query_params[entry] \u001b[38;5;129;01mis\u001b[39;00m \u001b[38;5;129;01mnot\u001b[39;00m \u001b[38;5;28;01mNone\u001b[39;00m\n\u001b[0;32m    265\u001b[0m }\n\u001b[1;32m--> 267\u001b[0m \u001b[38;5;28;01mreturn\u001b[39;00m \u001b[38;5;28msuper\u001b[39m()\u001b[38;5;241m.\u001b[39m_search(\n\u001b[0;32m    268\u001b[0m     num_chunks\u001b[38;5;241m=\u001b[39mnum_chunks,\n\u001b[0;32m    269\u001b[0m     chunk_size\u001b[38;5;241m=\u001b[39mchunk_size,\n\u001b[0;32m    270\u001b[0m     all_fields\u001b[38;5;241m=\u001b[39mall_fields,\n\u001b[0;32m    271\u001b[0m     fields\u001b[38;5;241m=\u001b[39mfields,\n\u001b[0;32m    272\u001b[0m     \u001b[38;5;241m*\u001b[39m\u001b[38;5;241m*\u001b[39mquery_params,\n\u001b[0;32m    273\u001b[0m )\n",
      "File \u001b[1;32m~\\anaconda3\\Lib\\site-packages\\mp_api\\client\\core\\client.py:1181\u001b[0m, in \u001b[0;36mBaseRester._search\u001b[1;34m(self, num_chunks, chunk_size, all_fields, fields, **kwargs)\u001b[0m\n\u001b[0;32m   1159\u001b[0m \u001b[38;5;250m\u001b[39m\u001b[38;5;124;03m\"\"\"A generic search method to retrieve documents matching specific parameters.\u001b[39;00m\n\u001b[0;32m   1160\u001b[0m \n\u001b[0;32m   1161\u001b[0m \u001b[38;5;124;03mArguments:\u001b[39;00m\n\u001b[1;32m   (...)\u001b[0m\n\u001b[0;32m   1176\u001b[0m \u001b[38;5;124;03m    A list of documents.\u001b[39;00m\n\u001b[0;32m   1177\u001b[0m \u001b[38;5;124;03m\"\"\"\u001b[39;00m\n\u001b[0;32m   1178\u001b[0m \u001b[38;5;66;03m# This method should be customized for each end point to give more user friendly,\u001b[39;00m\n\u001b[0;32m   1179\u001b[0m \u001b[38;5;66;03m# documented kwargs.\u001b[39;00m\n\u001b[1;32m-> 1181\u001b[0m \u001b[38;5;28;01mreturn\u001b[39;00m \u001b[38;5;28mself\u001b[39m\u001b[38;5;241m.\u001b[39m_get_all_documents(\n\u001b[0;32m   1182\u001b[0m     kwargs,\n\u001b[0;32m   1183\u001b[0m     all_fields\u001b[38;5;241m=\u001b[39mall_fields,\n\u001b[0;32m   1184\u001b[0m     fields\u001b[38;5;241m=\u001b[39mfields,\n\u001b[0;32m   1185\u001b[0m     chunk_size\u001b[38;5;241m=\u001b[39mchunk_size,\n\u001b[0;32m   1186\u001b[0m     num_chunks\u001b[38;5;241m=\u001b[39mnum_chunks,\n\u001b[0;32m   1187\u001b[0m )\n",
      "File \u001b[1;32m~\\anaconda3\\Lib\\site-packages\\mp_api\\client\\core\\client.py:1254\u001b[0m, in \u001b[0;36mBaseRester._get_all_documents\u001b[1;34m(self, query_params, all_fields, fields, chunk_size, num_chunks)\u001b[0m\n\u001b[0;32m   1240\u001b[0m list_entries \u001b[38;5;241m=\u001b[39m \u001b[38;5;28msorted\u001b[39m(\n\u001b[0;32m   1241\u001b[0m     (\n\u001b[0;32m   1242\u001b[0m         (key, \u001b[38;5;28mlen\u001b[39m(entry\u001b[38;5;241m.\u001b[39msplit(\u001b[38;5;124m\"\u001b[39m\u001b[38;5;124m,\u001b[39m\u001b[38;5;124m\"\u001b[39m)))\n\u001b[1;32m   (...)\u001b[0m\n\u001b[0;32m   1249\u001b[0m     reverse\u001b[38;5;241m=\u001b[39m\u001b[38;5;28;01mTrue\u001b[39;00m,\n\u001b[0;32m   1250\u001b[0m )\n\u001b[0;32m   1252\u001b[0m chosen_param \u001b[38;5;241m=\u001b[39m list_entries[\u001b[38;5;241m0\u001b[39m][\u001b[38;5;241m0\u001b[39m] \u001b[38;5;28;01mif\u001b[39;00m \u001b[38;5;28mlen\u001b[39m(list_entries) \u001b[38;5;241m>\u001b[39m \u001b[38;5;241m0\u001b[39m \u001b[38;5;28;01melse\u001b[39;00m \u001b[38;5;28;01mNone\u001b[39;00m\n\u001b[1;32m-> 1254\u001b[0m results \u001b[38;5;241m=\u001b[39m \u001b[38;5;28mself\u001b[39m\u001b[38;5;241m.\u001b[39m_query_resource(\n\u001b[0;32m   1255\u001b[0m     query_params,\n\u001b[0;32m   1256\u001b[0m     fields\u001b[38;5;241m=\u001b[39mfields,\n\u001b[0;32m   1257\u001b[0m     parallel_param\u001b[38;5;241m=\u001b[39mchosen_param,\n\u001b[0;32m   1258\u001b[0m     chunk_size\u001b[38;5;241m=\u001b[39mchunk_size,\n\u001b[0;32m   1259\u001b[0m     num_chunks\u001b[38;5;241m=\u001b[39mnum_chunks,\n\u001b[0;32m   1260\u001b[0m )\n\u001b[0;32m   1262\u001b[0m \u001b[38;5;28;01mreturn\u001b[39;00m results[\u001b[38;5;124m\"\u001b[39m\u001b[38;5;124mdata\u001b[39m\u001b[38;5;124m\"\u001b[39m]\n",
      "File \u001b[1;32m~\\anaconda3\\Lib\\site-packages\\mp_api\\client\\core\\client.py:565\u001b[0m, in \u001b[0;36mBaseRester._query_resource\u001b[1;34m(self, criteria, fields, suburl, use_document_model, parallel_param, num_chunks, chunk_size, timeout)\u001b[0m\n\u001b[0;32m    563\u001b[0m         data[\u001b[38;5;124m\"\u001b[39m\u001b[38;5;124mmeta\u001b[39m\u001b[38;5;124m\"\u001b[39m][\u001b[38;5;124m\"\u001b[39m\u001b[38;5;124mtotal_doc\u001b[39m\u001b[38;5;124m\"\u001b[39m] \u001b[38;5;241m=\u001b[39m \u001b[38;5;28mlen\u001b[39m(data[\u001b[38;5;124m\"\u001b[39m\u001b[38;5;124mdata\u001b[39m\u001b[38;5;124m\"\u001b[39m])\n\u001b[0;32m    564\u001b[0m     \u001b[38;5;28;01melse\u001b[39;00m:\n\u001b[1;32m--> 565\u001b[0m         data \u001b[38;5;241m=\u001b[39m \u001b[38;5;28mself\u001b[39m\u001b[38;5;241m.\u001b[39m_submit_requests(\n\u001b[0;32m    566\u001b[0m             url\u001b[38;5;241m=\u001b[39murl,\n\u001b[0;32m    567\u001b[0m             criteria\u001b[38;5;241m=\u001b[39mcriteria,\n\u001b[0;32m    568\u001b[0m             use_document_model\u001b[38;5;241m=\u001b[39m\u001b[38;5;129;01mnot\u001b[39;00m query_s3 \u001b[38;5;129;01mand\u001b[39;00m use_document_model,\n\u001b[0;32m    569\u001b[0m             parallel_param\u001b[38;5;241m=\u001b[39mparallel_param,\n\u001b[0;32m    570\u001b[0m             num_chunks\u001b[38;5;241m=\u001b[39mnum_chunks,\n\u001b[0;32m    571\u001b[0m             chunk_size\u001b[38;5;241m=\u001b[39mchunk_size,\n\u001b[0;32m    572\u001b[0m             timeout\u001b[38;5;241m=\u001b[39mtimeout,\n\u001b[0;32m    573\u001b[0m         )\n\u001b[0;32m    574\u001b[0m     \u001b[38;5;28;01mreturn\u001b[39;00m data\n\u001b[0;32m    576\u001b[0m \u001b[38;5;28;01mexcept\u001b[39;00m RequestException \u001b[38;5;28;01mas\u001b[39;00m ex:\n",
      "File \u001b[1;32m~\\anaconda3\\Lib\\site-packages\\mp_api\\client\\core\\client.py:712\u001b[0m, in \u001b[0;36mBaseRester._submit_requests\u001b[1;34m(self, url, criteria, use_document_model, chunk_size, parallel_param, num_chunks, timeout)\u001b[0m\n\u001b[0;32m    699\u001b[0m remaining_docs_avail \u001b[38;5;241m=\u001b[39m {}\n\u001b[0;32m    701\u001b[0m initial_params_list \u001b[38;5;241m=\u001b[39m [\n\u001b[0;32m    702\u001b[0m     {\n\u001b[0;32m    703\u001b[0m         \u001b[38;5;124m\"\u001b[39m\u001b[38;5;124murl\u001b[39m\u001b[38;5;124m\"\u001b[39m: url,\n\u001b[1;32m   (...)\u001b[0m\n\u001b[0;32m    709\u001b[0m     \u001b[38;5;28;01mfor\u001b[39;00m crit \u001b[38;5;129;01min\u001b[39;00m new_criteria\n\u001b[0;32m    710\u001b[0m ]\n\u001b[1;32m--> 712\u001b[0m initial_data_tuples \u001b[38;5;241m=\u001b[39m \u001b[38;5;28mself\u001b[39m\u001b[38;5;241m.\u001b[39m_multi_thread(\n\u001b[0;32m    713\u001b[0m     \u001b[38;5;28mself\u001b[39m\u001b[38;5;241m.\u001b[39m_submit_request_and_process, initial_params_list\n\u001b[0;32m    714\u001b[0m )\n\u001b[0;32m    716\u001b[0m \u001b[38;5;28;01mfor\u001b[39;00m data, subtotal, crit_ind \u001b[38;5;129;01min\u001b[39;00m initial_data_tuples:\n\u001b[0;32m    717\u001b[0m     subtotals\u001b[38;5;241m.\u001b[39mappend(subtotal)\n",
      "File \u001b[1;32m~\\anaconda3\\Lib\\site-packages\\mp_api\\client\\core\\client.py:934\u001b[0m, in \u001b[0;36mBaseRester._multi_thread\u001b[1;34m(self, func, params_list, progress_bar)\u001b[0m\n\u001b[0;32m    931\u001b[0m finished, futures \u001b[38;5;241m=\u001b[39m wait(futures, return_when\u001b[38;5;241m=\u001b[39mFIRST_COMPLETED)\n\u001b[0;32m    933\u001b[0m \u001b[38;5;28;01mfor\u001b[39;00m future \u001b[38;5;129;01min\u001b[39;00m finished:\n\u001b[1;32m--> 934\u001b[0m     data, subtotal \u001b[38;5;241m=\u001b[39m future\u001b[38;5;241m.\u001b[39mresult()\n\u001b[0;32m    936\u001b[0m     \u001b[38;5;28;01mif\u001b[39;00m progress_bar \u001b[38;5;129;01mis\u001b[39;00m \u001b[38;5;129;01mnot\u001b[39;00m \u001b[38;5;28;01mNone\u001b[39;00m:\n\u001b[0;32m    937\u001b[0m         \u001b[38;5;28;01mif\u001b[39;00m \u001b[38;5;28misinstance\u001b[39m(data, \u001b[38;5;28mdict\u001b[39m):\n",
      "File \u001b[1;32m~\\anaconda3\\Lib\\concurrent\\futures\\_base.py:449\u001b[0m, in \u001b[0;36mFuture.result\u001b[1;34m(self, timeout)\u001b[0m\n\u001b[0;32m    447\u001b[0m     \u001b[38;5;28;01mraise\u001b[39;00m CancelledError()\n\u001b[0;32m    448\u001b[0m \u001b[38;5;28;01melif\u001b[39;00m \u001b[38;5;28mself\u001b[39m\u001b[38;5;241m.\u001b[39m_state \u001b[38;5;241m==\u001b[39m FINISHED:\n\u001b[1;32m--> 449\u001b[0m     \u001b[38;5;28;01mreturn\u001b[39;00m \u001b[38;5;28mself\u001b[39m\u001b[38;5;241m.\u001b[39m__get_result()\n\u001b[0;32m    451\u001b[0m \u001b[38;5;28mself\u001b[39m\u001b[38;5;241m.\u001b[39m_condition\u001b[38;5;241m.\u001b[39mwait(timeout)\n\u001b[0;32m    453\u001b[0m \u001b[38;5;28;01mif\u001b[39;00m \u001b[38;5;28mself\u001b[39m\u001b[38;5;241m.\u001b[39m_state \u001b[38;5;129;01min\u001b[39;00m [CANCELLED, CANCELLED_AND_NOTIFIED]:\n",
      "File \u001b[1;32m~\\anaconda3\\Lib\\concurrent\\futures\\_base.py:401\u001b[0m, in \u001b[0;36mFuture.__get_result\u001b[1;34m(self)\u001b[0m\n\u001b[0;32m    399\u001b[0m \u001b[38;5;28;01mif\u001b[39;00m \u001b[38;5;28mself\u001b[39m\u001b[38;5;241m.\u001b[39m_exception:\n\u001b[0;32m    400\u001b[0m     \u001b[38;5;28;01mtry\u001b[39;00m:\n\u001b[1;32m--> 401\u001b[0m         \u001b[38;5;28;01mraise\u001b[39;00m \u001b[38;5;28mself\u001b[39m\u001b[38;5;241m.\u001b[39m_exception\n\u001b[0;32m    402\u001b[0m     \u001b[38;5;28;01mfinally\u001b[39;00m:\n\u001b[0;32m    403\u001b[0m         \u001b[38;5;66;03m# Break a reference cycle with the exception in self._exception\u001b[39;00m\n\u001b[0;32m    404\u001b[0m         \u001b[38;5;28mself\u001b[39m \u001b[38;5;241m=\u001b[39m \u001b[38;5;28;01mNone\u001b[39;00m\n",
      "File \u001b[1;32m~\\anaconda3\\Lib\\concurrent\\futures\\thread.py:58\u001b[0m, in \u001b[0;36m_WorkItem.run\u001b[1;34m(self)\u001b[0m\n\u001b[0;32m     55\u001b[0m     \u001b[38;5;28;01mreturn\u001b[39;00m\n\u001b[0;32m     57\u001b[0m \u001b[38;5;28;01mtry\u001b[39;00m:\n\u001b[1;32m---> 58\u001b[0m     result \u001b[38;5;241m=\u001b[39m \u001b[38;5;28mself\u001b[39m\u001b[38;5;241m.\u001b[39mfn(\u001b[38;5;241m*\u001b[39m\u001b[38;5;28mself\u001b[39m\u001b[38;5;241m.\u001b[39margs, \u001b[38;5;241m*\u001b[39m\u001b[38;5;241m*\u001b[39m\u001b[38;5;28mself\u001b[39m\u001b[38;5;241m.\u001b[39mkwargs)\n\u001b[0;32m     59\u001b[0m \u001b[38;5;28;01mexcept\u001b[39;00m \u001b[38;5;167;01mBaseException\u001b[39;00m \u001b[38;5;28;01mas\u001b[39;00m exc:\n\u001b[0;32m     60\u001b[0m     \u001b[38;5;28mself\u001b[39m\u001b[38;5;241m.\u001b[39mfuture\u001b[38;5;241m.\u001b[39mset_exception(exc)\n",
      "File \u001b[1;32m~\\anaconda3\\Lib\\site-packages\\mp_api\\client\\core\\client.py:1006\u001b[0m, in \u001b[0;36mBaseRester._submit_request_and_process\u001b[1;34m(self, url, verify, params, use_document_model, timeout)\u001b[0m\n\u001b[0;32m   1003\u001b[0m \u001b[38;5;66;03m# other sub-urls may use different document models\u001b[39;00m\n\u001b[0;32m   1004\u001b[0m \u001b[38;5;66;03m# the client does not handle this in a particularly smart way currently\u001b[39;00m\n\u001b[0;32m   1005\u001b[0m \u001b[38;5;28;01mif\u001b[39;00m \u001b[38;5;28mself\u001b[39m\u001b[38;5;241m.\u001b[39mdocument_model \u001b[38;5;129;01mand\u001b[39;00m use_document_model:\n\u001b[1;32m-> 1006\u001b[0m     data[\u001b[38;5;124m\"\u001b[39m\u001b[38;5;124mdata\u001b[39m\u001b[38;5;124m\"\u001b[39m] \u001b[38;5;241m=\u001b[39m \u001b[38;5;28mself\u001b[39m\u001b[38;5;241m.\u001b[39m_convert_to_model(data[\u001b[38;5;124m\"\u001b[39m\u001b[38;5;124mdata\u001b[39m\u001b[38;5;124m\"\u001b[39m])\n\u001b[0;32m   1008\u001b[0m meta_total_doc_num \u001b[38;5;241m=\u001b[39m data\u001b[38;5;241m.\u001b[39mget(\u001b[38;5;124m\"\u001b[39m\u001b[38;5;124mmeta\u001b[39m\u001b[38;5;124m\"\u001b[39m, {})\u001b[38;5;241m.\u001b[39mget(\u001b[38;5;124m\"\u001b[39m\u001b[38;5;124mtotal_doc\u001b[39m\u001b[38;5;124m\"\u001b[39m, \u001b[38;5;241m1\u001b[39m)\n\u001b[0;32m   1010\u001b[0m \u001b[38;5;28;01mreturn\u001b[39;00m data, meta_total_doc_num\n",
      "File \u001b[1;32m~\\anaconda3\\Lib\\site-packages\\mp_api\\client\\core\\client.py:1045\u001b[0m, in \u001b[0;36mBaseRester._convert_to_model\u001b[1;34m(self, data)\u001b[0m\n\u001b[0;32m   1042\u001b[0m raw_doc_list \u001b[38;5;241m=\u001b[39m [\u001b[38;5;28mself\u001b[39m\u001b[38;5;241m.\u001b[39mdocument_model\u001b[38;5;241m.\u001b[39mmodel_validate(d) \u001b[38;5;28;01mfor\u001b[39;00m d \u001b[38;5;129;01min\u001b[39;00m data]  \u001b[38;5;66;03m# type: ignore\u001b[39;00m\n\u001b[0;32m   1044\u001b[0m \u001b[38;5;28;01mif\u001b[39;00m \u001b[38;5;28mlen\u001b[39m(raw_doc_list) \u001b[38;5;241m>\u001b[39m \u001b[38;5;241m0\u001b[39m:\n\u001b[1;32m-> 1045\u001b[0m     data_model, set_fields, _ \u001b[38;5;241m=\u001b[39m \u001b[38;5;28mself\u001b[39m\u001b[38;5;241m.\u001b[39m_generate_returned_model(raw_doc_list[\u001b[38;5;241m0\u001b[39m])\n\u001b[0;32m   1047\u001b[0m     data \u001b[38;5;241m=\u001b[39m [\n\u001b[0;32m   1048\u001b[0m         data_model(\n\u001b[0;32m   1049\u001b[0m             \u001b[38;5;241m*\u001b[39m\u001b[38;5;241m*\u001b[39m{\n\u001b[1;32m   (...)\u001b[0m\n\u001b[0;32m   1055\u001b[0m         \u001b[38;5;28;01mfor\u001b[39;00m raw_doc \u001b[38;5;129;01min\u001b[39;00m raw_doc_list\n\u001b[0;32m   1056\u001b[0m     ]\n\u001b[0;32m   1058\u001b[0m \u001b[38;5;28;01mreturn\u001b[39;00m data\n",
      "File \u001b[1;32m~\\anaconda3\\Lib\\site-packages\\mp_api\\client\\core\\client.py:1071\u001b[0m, in \u001b[0;36mBaseRester._generate_returned_model\u001b[1;34m(self, doc)\u001b[0m\n\u001b[0;32m   1063\u001b[0m unset_fields \u001b[38;5;241m=\u001b[39m [field \u001b[38;5;28;01mfor\u001b[39;00m field \u001b[38;5;129;01min\u001b[39;00m doc\u001b[38;5;241m.\u001b[39mmodel_fields \u001b[38;5;28;01mif\u001b[39;00m field \u001b[38;5;129;01mnot\u001b[39;00m \u001b[38;5;129;01min\u001b[39;00m set_fields]\n\u001b[0;32m   1065\u001b[0m data_model \u001b[38;5;241m=\u001b[39m create_model(  \u001b[38;5;66;03m# type: ignore\u001b[39;00m\n\u001b[0;32m   1066\u001b[0m     \u001b[38;5;124m\"\u001b[39m\u001b[38;5;124mMPDataDoc\u001b[39m\u001b[38;5;124m\"\u001b[39m,\n\u001b[0;32m   1067\u001b[0m     fields_not_requested\u001b[38;5;241m=\u001b[39m(\u001b[38;5;28mlist\u001b[39m[\u001b[38;5;28mstr\u001b[39m], unset_fields),\n\u001b[0;32m   1068\u001b[0m     __base__\u001b[38;5;241m=\u001b[39m\u001b[38;5;28mself\u001b[39m\u001b[38;5;241m.\u001b[39mdocument_model,  \u001b[38;5;66;03m# type: ignore\u001b[39;00m\n\u001b[0;32m   1069\u001b[0m )\n\u001b[1;32m-> 1071\u001b[0m data_model\u001b[38;5;241m.\u001b[39mmodel_fields \u001b[38;5;241m=\u001b[39m {\n\u001b[0;32m   1072\u001b[0m     \u001b[38;5;241m*\u001b[39m\u001b[38;5;241m*\u001b[39m{\n\u001b[0;32m   1073\u001b[0m         name: description\n\u001b[0;32m   1074\u001b[0m         \u001b[38;5;28;01mfor\u001b[39;00m name, description \u001b[38;5;129;01min\u001b[39;00m data_model\u001b[38;5;241m.\u001b[39mmodel_fields\u001b[38;5;241m.\u001b[39mitems()\n\u001b[0;32m   1075\u001b[0m         \u001b[38;5;28;01mif\u001b[39;00m name \u001b[38;5;129;01min\u001b[39;00m set_fields\n\u001b[0;32m   1076\u001b[0m     },\n\u001b[0;32m   1077\u001b[0m     \u001b[38;5;124m\"\u001b[39m\u001b[38;5;124mfields_not_requested\u001b[39m\u001b[38;5;124m\"\u001b[39m: data_model\u001b[38;5;241m.\u001b[39mmodel_fields[\u001b[38;5;124m\"\u001b[39m\u001b[38;5;124mfields_not_requested\u001b[39m\u001b[38;5;124m\"\u001b[39m],\n\u001b[0;32m   1078\u001b[0m }\n\u001b[0;32m   1080\u001b[0m \u001b[38;5;28;01mdef\u001b[39;00m \u001b[38;5;21mnew_repr\u001b[39m(\u001b[38;5;28mself\u001b[39m) \u001b[38;5;241m-\u001b[39m\u001b[38;5;241m>\u001b[39m \u001b[38;5;28mstr\u001b[39m:\n\u001b[0;32m   1081\u001b[0m     extra \u001b[38;5;241m=\u001b[39m \u001b[38;5;124m\"\u001b[39m\u001b[38;5;124m,\u001b[39m\u001b[38;5;130;01m\\n\u001b[39;00m\u001b[38;5;124m\"\u001b[39m\u001b[38;5;241m.\u001b[39mjoin(\n\u001b[0;32m   1082\u001b[0m         \u001b[38;5;124mf\u001b[39m\u001b[38;5;124m\"\u001b[39m\u001b[38;5;130;01m\\033\u001b[39;00m\u001b[38;5;124m[1m\u001b[39m\u001b[38;5;132;01m{\u001b[39;00mn\u001b[38;5;132;01m}\u001b[39;00m\u001b[38;5;130;01m\\033\u001b[39;00m\u001b[38;5;124m[0;0m=\u001b[39m\u001b[38;5;132;01m{\u001b[39;00m\u001b[38;5;28mgetattr\u001b[39m(\u001b[38;5;28mself\u001b[39m,\u001b[38;5;250m \u001b[39mn)\u001b[38;5;132;01m!r}\u001b[39;00m\u001b[38;5;124m\"\u001b[39m\n\u001b[0;32m   1083\u001b[0m         \u001b[38;5;28;01mfor\u001b[39;00m n \u001b[38;5;129;01min\u001b[39;00m data_model\u001b[38;5;241m.\u001b[39mmodel_fields\n\u001b[0;32m   1084\u001b[0m     )\n",
      "\u001b[1;31mAttributeError\u001b[0m: property 'model_fields' of 'ModelMetaclass' object has no setter"
     ]
    }
   ],
   "source": [
    "from mp_api.client import MPRester\n",
    "\n",
    "with MPRester(api_key=\"O0EZBVkFbdM1Lcjg94q4TBPPmNkQKB8E\") as mpr:\n",
    "    # retrieve SummaryDocs for a list of materials\n",
    "    docs = mpr.summary.search(material_ids=[\"mp-861872\"])"
   ]
  },
  {
   "cell_type": "code",
   "execution_count": 15,
   "id": "6aea3cd0-13ae-4dcb-96f1-b09123d8aa87",
   "metadata": {},
   "outputs": [],
   "source": [
    "from pymatgen.symmetry.analyzer import SpacegroupAnalyzer\n",
    "\n",
    "def printout(docs):\n",
    "    structure = docs[0].structure\n",
    "    \n",
    "    sga = SpacegroupAnalyzer(structure)\n",
    "    conventional_structure = sga.get_conventional_standard_structure()\n",
    "\n",
    "    \n",
    "    # Output crystallographic information with 5 significant figures\n",
    "    print(\"Conventional Lattice parameters:\")\n",
    "    print(f\"a: {conventional_structure.lattice.a:.5g}, b: {conventional_structure.lattice.b:.5g}, c: {conventional_structure.lattice.c:.5g}\")\n",
    "    print(f\"Alpha: {conventional_structure.lattice.alpha:.5g}, Beta: {conventional_structure.lattice.beta:.5g}, Gamma: {conventional_structure.lattice.gamma:.5g}\")\n",
    "    \n",
    "    print(\"\\nConventional Space group:\")\n",
    "    print(f\"Symbol: {conventional_structure.get_space_group_info()[0]}, Number: {conventional_structure.get_space_group_info()[1]}\")\n",
    "    \n",
    "    print(\"\\nAtomic positions (fractional coordinates):\")\n",
    "    for site in conventional_structure:\n",
    "        coords = site.frac_coords\n",
    "        print(f\"Element: {site.species_string}, Coordinates: [{coords[0]:.5g}, {coords[1]:.5g}, {coords[2]:.5g}]\")\n",
    "    \n",
    "    \n",
    "    return None"
   ]
  },
  {
   "cell_type": "code",
   "execution_count": 16,
   "id": "a4cb71cc-6db5-45de-92c5-4f4cd40ed298",
   "metadata": {},
   "outputs": [
    {
     "name": "stdout",
     "output_type": "stream",
     "text": [
      "Conventional Lattice parameters:\n",
      "a: 7.9342, b: 7.9342, c: 7.9342\n",
      "Alpha: 90, Beta: 90, Gamma: 90\n",
      "\n",
      "Conventional Space group:\n",
      "Symbol: Fm-3m, Number: 225\n",
      "\n",
      "Atomic positions (fractional coordinates):\n",
      "Element: Ac, Coordinates: [0.25, 0.25, 0.25]\n",
      "Element: Ac, Coordinates: [0.75, 0.75, 0.75]\n",
      "Element: Ac, Coordinates: [0.25, 0.75, 0.75]\n",
      "Element: Ac, Coordinates: [0.75, 0.25, 0.25]\n",
      "Element: Ac, Coordinates: [0.75, 0.25, 0.75]\n",
      "Element: Ac, Coordinates: [0.25, 0.75, 0.25]\n",
      "Element: Ac, Coordinates: [0.75, 0.75, 0.25]\n",
      "Element: Ac, Coordinates: [0.25, 0.25, 0.75]\n",
      "Element: Hg, Coordinates: [0, 0, 0]\n",
      "Element: Hg, Coordinates: [0, 0.5, 0.5]\n",
      "Element: Hg, Coordinates: [0.5, 0, 0.5]\n",
      "Element: Hg, Coordinates: [0.5, 0.5, 0]\n",
      "Element: Ge, Coordinates: [0.5, 0.5, 0.5]\n",
      "Element: Ge, Coordinates: [0.5, 0, 0]\n",
      "Element: Ge, Coordinates: [0, 0.5, 0]\n",
      "Element: Ge, Coordinates: [0, 0, 0.5]\n"
     ]
    }
   ],
   "source": [
    "printout(docs)"
   ]
  },
  {
   "cell_type": "code",
   "execution_count": null,
   "id": "1b23d9eb-05cc-456c-9d24-b9f054d40373",
   "metadata": {},
   "outputs": [],
   "source": []
  },
  {
   "cell_type": "code",
   "execution_count": null,
   "id": "d25cb74e-a56b-4e09-a7a7-3e02e6fbdcdd",
   "metadata": {},
   "outputs": [],
   "source": []
  }
 ],
 "metadata": {
  "kernelspec": {
   "display_name": "Python 3 (ipykernel)",
   "language": "python",
   "name": "python3"
  },
  "language_info": {
   "codemirror_mode": {
    "name": "ipython",
    "version": 3
   },
   "file_extension": ".py",
   "mimetype": "text/x-python",
   "name": "python",
   "nbconvert_exporter": "python",
   "pygments_lexer": "ipython3",
   "version": "3.11.7"
  }
 },
 "nbformat": 4,
 "nbformat_minor": 5
}
