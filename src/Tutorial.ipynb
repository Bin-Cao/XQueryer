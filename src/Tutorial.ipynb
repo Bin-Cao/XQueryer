{
 "cells": [
  {
   "cell_type": "code",
   "execution_count": 1,
   "id": "d36d4b07-faab-47f3-959d-52f695254e17",
   "metadata": {},
   "outputs": [],
   "source": [
    "# this notebook provides a tutorial for Xqueryer's training valdation and test "
   ]
  },
  {
   "cell_type": "code",
   "execution_count": null,
   "id": "6bae8403-933e-4355-a06c-a8c2dfc898dd",
   "metadata": {},
   "outputs": [],
   "source": [
    "# Set Up the Environment:\n",
    "#Create a new Python environment with version Python==3.9.19 and name it asugnn.you can use conda\n",
    "\n"
   ]
  },
  {
   "cell_type": "code",
   "execution_count": 13,
   "id": "6e601906-f0d2-4612-b8db-96209406bd3a",
   "metadata": {},
   "outputs": [
    {
     "name": "stdout",
     "output_type": "stream",
     "text": [
      "Microsoft Windows [�汾 10.0.22631.4602]\n",
      "(c) Microsoft Corporation����������Ȩ����\n",
      "\n",
      "(base) C:\\GitHub\\XQueryer\\src>conda activate caobin\n"
     ]
    },
    {
     "name": "stderr",
     "output_type": "stream",
     "text": [
      "\n",
      "EnvironmentNameNotFound: Could not find conda environment: caobin\n",
      "You can list all discoverable environments with `conda info --envs`.\n",
      "\n",
      "\n"
     ]
    },
    {
     "name": "stdout",
     "output_type": "stream",
     "text": [
      "\n",
      "(base) C:\\GitHub\\XQueryer\\src>python train.py --batch_size 2 --epochs 1 --num_workers 2 --data_dir_train ../demo_data/demo_train.db --data_dir_val ../demo_data/deom_val.db\n"
     ]
    },
    {
     "name": "stderr",
     "output_type": "stream",
     "text": [
      "C:\\Users\\binja\\anaconda3\\Lib\\site-packages\\torch\\amp\\grad_scaler.py:131: UserWarning: torch.cuda.amp.GradScaler is enabled, but CUDA is not available.  Disabling.\n",
      "  warnings.warn(\n"
     ]
    },
    {
     "name": "stdout",
     "output_type": "stream",
     "text": [
      "output/2024-12-18_1109>>>>  Running on cpu  <<<<\n",
      "Xmodel(\n",
      "  (conv): ConvModule(\n",
      "    (conv1): Conv1d(1, 32, kernel_size=(17,), stride=(1,), padding=(8,))\n",
      "    (bn1): BatchNorm1d(32, eps=1e-05, momentum=0.1, affine=True, track_running_stats=True)\n",
      "    (act1): ReLU()\n",
      "    (conv2): Conv1d(1, 32, kernel_size=(33,), stride=(1,), padding=(16,))\n",
      "    (bn2): BatchNorm1d(32, eps=1e-05, momentum=0.1, affine=True, track_running_stats=True)\n",
      "    (act2): ReLU()\n",
      "    (conv3): Conv1d(1, 32, kernel_size=(65,), stride=(1,), padding=(32,))\n",
      "    (bn3): BatchNorm1d(32, eps=1e-05, momentum=0.1, affine=True, track_running_stats=True)\n",
      "    (act3): ReLU()\n",
      "    (conv4): Conv1d(1, 32, kernel_size=(129,), stride=(1,), padding=(64,))\n",
      "    (bn4): BatchNorm1d(32, eps=1e-05, momentum=0.1, affine=True, track_running_stats=True)\n",
      "    (act4): ReLU()\n",
      "    (conv5): Conv1d(1, 32, kernel_size=(257,), stride=(1,), padding=(128,))\n",
      "    (bn5): BatchNorm1d(32, eps=1e-05, momentum=0.1, affine=True, track_running_stats=True)\n",
      "    (act5): ReLU()\n",
      "    (conv6): Conv1d(1, 32, kernel_size=(513,), stride=(1,), padding=(256,))\n",
      "    (bn6): BatchNorm1d(32, eps=1e-05, momentum=0.1, affine=True, track_running_stats=True)\n",
      "    (act6): ReLU()\n",
      "  )\n",
      "  (encoder): SelfAttnModule(\n",
      "    (layers): ModuleList(\n",
      "      (0-2): 3 x CrossAttnLayer(\n",
      "        (element_map): Sequential(\n",
      "          (0): Linear(in_features=92, out_features=2688000, bias=True)\n",
      "          (1): Dropout(p=0.5, inplace=False)\n",
      "          (2): ReLU()\n",
      "        )\n",
      "        (cross_attn): MultiheadAttention(\n",
      "          (out_proj): NonDynamicallyQuantizableLinear(in_features=3500, out_features=3500, bias=True)\n",
      "        )\n",
      "        (linear1): Linear(in_features=3500, out_features=768, bias=True)\n",
      "        (dropout): Dropout(p=0.0, inplace=False)\n",
      "        (linear2): Linear(in_features=768, out_features=3500, bias=True)\n",
      "        (norm1): LayerNorm((3500,), eps=1e-05, elementwise_affine=True)\n",
      "        (norm2): LayerNorm((3500,), eps=1e-05, elementwise_affine=True)\n",
      "        (dropout1): Dropout(p=0.0, inplace=False)\n",
      "        (dropout2): Dropout(p=0.0, inplace=False)\n",
      "      )\n",
      "    )\n",
      "  )\n",
      "  (norm_after): LayerNorm((3500,), eps=1e-05, elementwise_affine=True)\n",
      "  (cls_head): Sequential(\n",
      "    (0): Linear(in_features=3500, out_features=2048, bias=True)\n",
      "    (1): BatchNorm1d(2048, eps=1e-05, momentum=0.1, affine=True, track_running_stats=True)\n",
      "    (2): ReLU(inplace=True)\n",
      "    (3): Dropout(p=0.5, inplace=False)\n",
      "    (4): Linear(in_features=2048, out_features=1024, bias=True)\n",
      "    (5): BatchNorm1d(1024, eps=1e-05, momentum=0.1, affine=True, track_running_stats=True)\n",
      "    (6): ReLU(inplace=True)\n",
      "    (7): Dropout(p=0.5, inplace=False)\n",
      "    (8): Linear(in_features=1024, out_features=100315, bias=True)\n",
      "  )\n",
      ")\n",
      "Loaded data from: ['../demo_data/demo_train.db']\n",
      "Loaded data from: ['../demo_data/deom_val.db']\n"
     ]
    },
    {
     "name": "stderr",
     "output_type": "stream",
     "text": [
      "Training... :   0%|          | 0/20 [00:00<?, ?data/s]Traceback (most recent call last):\n",
      "  File \"C:\\GitHub\\XQueryer\\src\\train.py\", line 217, in <module>\n",
      "    main()\n",
      "  File \"C:\\GitHub\\XQueryer\\src\\train.py\", line 144, in main\n",
      "    loss_train, acc_train = run_one_epoch(model, train_loader, criterion, optimizer, epoch, mode='Train')\n",
      "                            ^^^^^^^^^^^^^^^^^^^^^^^^^^^^^^^^^^^^^^^^^^^^^^^^^^^^^^^^^^^^^^^^^^^^^^^^^^^^^\n",
      "  File \"C:\\GitHub\\XQueryer\\src\\train.py\", line 35, in run_one_epoch\n",
      "    for i, batch in enumerate(dataloader):\n",
      "  File \"C:\\Users\\binja\\anaconda3\\Lib\\site-packages\\torch\\utils\\data\\dataloader.py\", line 631, in __next__\n",
      "    data = self._next_data()\n",
      "           ^^^^^^^^^^^^^^^^^\n",
      "  File \"C:\\Users\\binja\\anaconda3\\Lib\\site-packages\\torch\\utils\\data\\dataloader.py\", line 1346, in _next_data\n",
      "    return self._process_data(data)\n",
      "           ^^^^^^^^^^^^^^^^^^^^^^^^\n",
      "  File \"C:\\Users\\binja\\anaconda3\\Lib\\site-packages\\torch\\utils\\data\\dataloader.py\", line 1372, in _process_data\n",
      "    data.reraise()\n",
      "  File \"C:\\Users\\binja\\anaconda3\\Lib\\site-packages\\torch\\_utils.py\", line 705, in reraise\n",
      "    raise exception\n",
      "sqlite3.OperationalError: Caught OperationalError in DataLoader worker process 0.\n",
      "Original Traceback (most recent call last):\n",
      "  File \"C:\\Users\\binja\\anaconda3\\Lib\\site-packages\\torch\\utils\\data\\_utils\\worker.py\", line 308, in _worker_loop\n",
      "    data = fetcher.fetch(index)  # type: ignore[possibly-undefined]\n",
      "           ^^^^^^^^^^^^^^^^^^^^\n",
      "  File \"C:\\Users\\binja\\anaconda3\\Lib\\site-packages\\torch\\utils\\data\\_utils\\fetch.py\", line 51, in fetch\n",
      "    data = [self.dataset[idx] for idx in possibly_batched_index]\n",
      "           ^^^^^^^^^^^^^^^^^^^^^^^^^^^^^^^^^^^^^^^^^^^^^^^^^^^^^\n",
      "  File \"C:\\Users\\binja\\anaconda3\\Lib\\site-packages\\torch\\utils\\data\\_utils\\fetch.py\", line 51, in <listcomp>\n",
      "    data = [self.dataset[idx] for idx in possibly_batched_index]\n",
      "            ~~~~~~~~~~~~^^^^^\n",
      "  File \"C:\\GitHub\\XQueryer\\src\\model\\dataset.py\", line 46, in __getitem__\n",
      "    intensity = self.mixture( eval(getattr(row, 'intensity')) )\n",
      "                ^^^^^^^^^^^^^^^^^^^^^^^^^^^^^^^^^^^^^^^^^^^^^^^\n",
      "  File \"C:\\GitHub\\XQueryer\\src\\model\\dataset.py\", line 80, in mixture\n",
      "    _row = ase.db.connect('/data/cb/val.db').get(num)\n",
      "           ^^^^^^^^^^^^^^^^^^^^^^^^^^^^^^^^^^^^^^^^^^\n",
      "  File \"C:\\Users\\binja\\anaconda3\\Lib\\site-packages\\ase\\db\\core.py\", line 430, in get\n",
      "    rows = list(self.select(selection, limit=2, **kwargs))\n",
      "           ^^^^^^^^^^^^^^^^^^^^^^^^^^^^^^^^^^^^^^^^^^^^^^^\n",
      "  File \"C:\\Users\\binja\\anaconda3\\Lib\\site-packages\\ase\\parallel.py\", line 275, in new_generator\n",
      "    for result in generator(*args, **kwargs):\n",
      "  File \"C:\\Users\\binja\\anaconda3\\Lib\\site-packages\\ase\\db\\core.py\", line 486, in select\n",
      "    for row in self._select(keys, cmps, explain=explain,\n",
      "  File \"C:\\Users\\binja\\anaconda3\\Lib\\site-packages\\ase\\db\\sqlite.py\", line 688, in _select\n",
      "    with self.managed_connection() as con:\n",
      "  File \"C:\\Users\\binja\\anaconda3\\Lib\\contextlib.py\", line 137, in __enter__\n",
      "    return next(self.gen)\n",
      "           ^^^^^^^^^^^^^^\n",
      "  File \"C:\\Users\\binja\\anaconda3\\Lib\\site-packages\\ase\\db\\sqlite.py\", line 192, in managed_connection\n",
      "    con = self.connection or self._connect()\n",
      "                             ^^^^^^^^^^^^^^^\n",
      "  File \"C:\\Users\\binja\\anaconda3\\Lib\\site-packages\\ase\\db\\sqlite.py\", line 173, in _connect\n",
      "    return sqlite3.connect(self.filename, timeout=20)\n",
      "           ^^^^^^^^^^^^^^^^^^^^^^^^^^^^^^^^^^^^^^^^^^\n",
      "sqlite3.OperationalError: unable to open database file\n",
      "\n",
      "Training... :   0%|          | 0/20 [00:05<?, ?data/s]\n"
     ]
    },
    {
     "name": "stdout",
     "output_type": "stream",
     "text": [
      "\n",
      "(base) C:\\GitHub\\XQueryer\\src>"
     ]
    }
   ],
   "source": [
    "%%cmd\n",
    "\n",
    "python train.py --batch_size 2 --epochs 1 --num_workers 2 --data_dir_train ../demo_data/demo_train.db --data_dir_val ../demo_data/deom_val.db"
   ]
  },
  {
   "cell_type": "code",
   "execution_count": null,
   "id": "4be5d49c-fcbf-476b-9ad8-e3eac53d5f90",
   "metadata": {},
   "outputs": [],
   "source": []
  }
 ],
 "metadata": {
  "kernelspec": {
   "display_name": "Python 3 (ipykernel)",
   "language": "python",
   "name": "python3"
  },
  "language_info": {
   "codemirror_mode": {
    "name": "ipython",
    "version": 3
   },
   "file_extension": ".py",
   "mimetype": "text/x-python",
   "name": "python",
   "nbconvert_exporter": "python",
   "pygments_lexer": "ipython3",
   "version": "3.11.7"
  }
 },
 "nbformat": 4,
 "nbformat_minor": 5
}
