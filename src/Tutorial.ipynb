{
 "cells": [
  {
   "cell_type": "markdown",
   "id": "9617a91f-276c-4fdb-8656-faee1f4d8c66",
   "metadata": {},
   "source": [
    "\n",
    "# Tutorial for XQueryer Training, Validation, and Testing\n",
    "\n",
    "## Environment Setup\n",
    "We recommend creating a new Python environment with the following version:\n",
    "```bash\n",
    "Python==3.9.19\n",
    "```\n",
    "\n",
    "## Demo Database\n",
    "A demo database is provided for quick review and testing purposes.  \n",
    "For training your own model, **replace the demo data** with your own database or use our open-sourced database available on [Hugging Face](https://huggingface.co/datasets/caobin/XQueryer/tree/main).\n",
    "\n",
    "## RRUFF Data\n",
    "Due to sharing restrictions, the RRUFF data cannot be included here. You can download the data directly from their [official website](https://rruff.info/). After downloading, save the patterns in a `.db` file format and use our provided code for further processing.\n",
    "\n",
    "---\n",
    "\n",
    "## Training the Model\n",
    "To train the model, run the following command:\n",
    "```bash\n",
    "python train.py --batch_size 2 --epochs 1 --num_workers 0 --data_dir_train ../demo_data/demo_train.db --data_dir_val ../demo_data/demo_val.db\n",
    "```\n",
    "\n",
    "### Notes:\n",
    "- Ensure you have set the correct paths for your training and validation databases.\n",
    "- During training, a folder will be created to save the pre-trained models.  \n",
    "  Every five epochs, a checkpoint file will be saved in this folder.\n",
    "\n",
    "---\n",
    "\n",
    "## Inference\n",
    "\n",
    "### Inference for Structure\n",
    "To perform inference on the structure, use the following command:\n",
    "```bash\n",
    "python infer.py --batch_size 1 --num_workers 0 --data_dir ../demo_data/demo_test.db --load_path ./output/2024-12-18_1338/checkpoints/checkpoint_0001.pth\n",
    "```\n",
    "\n",
    "### Inference for Crystal System\n",
    "To infer the crystal system, run:\n",
    "```bash\n",
    "python infer2cs.py --batch_size 1 --num_workers 0 --data_dir ../demo_data/demo_test.db --load_path ./output/2024-12-18_1338/checkpoints/checkpoint_0001.pth\n",
    "```\n",
    "\n",
    "### Inference for Space Group\n",
    "To infer the space group, execute:\n",
    "```bash\n",
    "python infer2sg.py --batch_size 1 --num_workers 0 --data_dir ../demo_data/demo_test.db --load_path ./output/2024-12-18_1338/checkpoints/checkpoint_0001.pth\n",
    "```\n",
    "\n",
    "---\n",
    "\n",
    "### Additional Notes:\n",
    "- Ensure the paths to your data and model checkpoints are correctly specified.\n",
    "- Modify the `batch_size`, `num_workers`, or other parameters as needed for your specific hardware or dataset.\n",
    "\n",
    "Enjoy using **XQueryer** for your PXRD data analysis"
   ]
  },
  {
   "cell_type": "code",
   "execution_count": 1,
   "id": "6e601906-f0d2-4612-b8db-96209406bd3a",
   "metadata": {},
   "outputs": [
    {
     "name": "stdout",
     "output_type": "stream",
     "text": [
      "output/2024-12-18_1338>>>>  Running on cpu  <<<<\n",
      "Xmodel(\n",
      "  (conv): ConvModule(\n",
      "    (conv1): Conv1d(1, 32, kernel_size=(17,), stride=(1,), padding=(8,))\n",
      "    (bn1): BatchNorm1d(32, eps=1e-05, momentum=0.1, affine=True, track_running_stats=True)\n",
      "    (act1): ReLU()\n",
      "    (conv2): Conv1d(1, 32, kernel_size=(33,), stride=(1,), padding=(16,))\n",
      "    (bn2): BatchNorm1d(32, eps=1e-05, momentum=0.1, affine=True, track_running_stats=True)\n",
      "    (act2): ReLU()\n",
      "    (conv3): Conv1d(1, 32, kernel_size=(65,), stride=(1,), padding=(32,))\n",
      "    (bn3): BatchNorm1d(32, eps=1e-05, momentum=0.1, affine=True, track_running_stats=True)\n",
      "    (act3): ReLU()\n",
      "    (conv4): Conv1d(1, 32, kernel_size=(129,), stride=(1,), padding=(64,))\n",
      "    (bn4): BatchNorm1d(32, eps=1e-05, momentum=0.1, affine=True, track_running_stats=True)\n",
      "    (act4): ReLU()\n",
      "    (conv5): Conv1d(1, 32, kernel_size=(257,), stride=(1,), padding=(128,))\n",
      "    (bn5): BatchNorm1d(32, eps=1e-05, momentum=0.1, affine=True, track_running_stats=True)\n",
      "    (act5): ReLU()\n",
      "    (conv6): Conv1d(1, 32, kernel_size=(513,), stride=(1,), padding=(256,))\n",
      "    (bn6): BatchNorm1d(32, eps=1e-05, momentum=0.1, affine=True, track_running_stats=True)\n",
      "    (act6): ReLU()\n",
      "  )\n",
      "  (encoder): SelfAttnModule(\n",
      "    (layers): ModuleList(\n",
      "      (0-2): 3 x CrossAttnLayer(\n",
      "        (element_map): Sequential(\n",
      "          (0): Linear(in_features=92, out_features=2688000, bias=True)\n",
      "          (1): Dropout(p=0.5, inplace=False)\n",
      "          (2): ReLU()\n",
      "        )\n",
      "        (cross_attn): MultiheadAttention(\n",
      "          (out_proj): NonDynamicallyQuantizableLinear(in_features=3500, out_features=3500, bias=True)\n",
      "        )\n",
      "        (linear1): Linear(in_features=3500, out_features=768, bias=True)\n",
      "        (dropout): Dropout(p=0.0, inplace=False)\n",
      "        (linear2): Linear(in_features=768, out_features=3500, bias=True)\n",
      "        (norm1): LayerNorm((3500,), eps=1e-05, elementwise_affine=True)\n",
      "        (norm2): LayerNorm((3500,), eps=1e-05, elementwise_affine=True)\n",
      "        (dropout1): Dropout(p=0.0, inplace=False)\n",
      "        (dropout2): Dropout(p=0.0, inplace=False)\n",
      "      )\n",
      "    )\n",
      "  )\n",
      "  (norm_after): LayerNorm((3500,), eps=1e-05, elementwise_affine=True)\n",
      "  (cls_head): Sequential(\n",
      "    (0): Linear(in_features=3500, out_features=2048, bias=True)\n",
      "    (1): BatchNorm1d(2048, eps=1e-05, momentum=0.1, affine=True, track_running_stats=True)\n",
      "    (2): ReLU(inplace=True)\n",
      "    (3): Dropout(p=0.5, inplace=False)\n",
      "    (4): Linear(in_features=2048, out_features=1024, bias=True)\n",
      "    (5): BatchNorm1d(1024, eps=1e-05, momentum=0.1, affine=True, track_running_stats=True)\n",
      "    (6): ReLU(inplace=True)\n",
      "    (7): Dropout(p=0.5, inplace=False)\n",
      "    (8): Linear(in_features=1024, out_features=100315, bias=True)\n",
      "  )\n",
      ")\n",
      "Loaded data from: ['../demo_data/demo_train.db']\n",
      "Loaded data from: ['../demo_data/demo_val.db']\n",
      "/Users/jacob/miniconda3/lib/python3.9/site-packages/transformers/utils/generic.py:485: UserWarning: torch.utils._pytree._register_pytree_node is deprecated. Please use torch.utils._pytree.register_pytree_node instead.\n",
      "  _torch_pytree._register_pytree_node(\n",
      "/Users/jacob/miniconda3/lib/python3.9/site-packages/torch/amp/grad_scaler.py:131: UserWarning: torch.cuda.amp.GradScaler is enabled, but CUDA is not available.  Disabling.\n",
      "  warnings.warn(\n",
      "Training... :   0%|                                    | 0/20 [00:00<?, ?data/s]/Users/jacob/miniconda3/lib/python3.9/site-packages/torch/amp/autocast_mode.py:250: UserWarning: User provided device_type of 'cuda', but CUDA is not available. Disabling\n",
      "  warnings.warn(\n",
      "Training... : 100%|████████████████| 20/20 [06:18<00:00, 18.94s/data, loss=11.7]\n",
      "Evaluating... : 100%|██████████████| 10/10 [00:27<00:00,  2.77s/data, loss=11.4]\n",
      "---------------- Epoch 1 ----------------\n",
      "loss_train : 11.496\n",
      "loss_val   : 11.4765\n",
      "acc_train  : 0.0%\n",
      "acc_val    : 0.0%\n",
      "Checkpoint saved!\n",
      "THE END\n"
     ]
    }
   ],
   "source": [
    "# To train the model, run the following command:\n",
    "\n",
    "!python train.py --batch_size 2 --epochs 1 --num_workers 0 --data_dir_train ../demo_data/demo_train.db --data_dir_val ../demo_data/demo_val.db"
   ]
  },
  {
   "cell_type": "code",
   "execution_count": 6,
   "id": "4be5d49c-fcbf-476b-9ad8-e3eac53d5f90",
   "metadata": {},
   "outputs": [
    {
     "name": "stdout",
     "output_type": "stream",
     "text": [
      "Loaded model from ./output/2024-12-18_1338/checkpoints/checkpoint_0001.pth\n",
      "Loaded data from: ['../demo_data/demo_test.db']\n",
      "Evaluating... :   0%|                                  | 0/10 [00:00<?, ?data/s]/Users/jacob/miniconda3/lib/python3.9/site-packages/torch/amp/autocast_mode.py:250: UserWarning: User provided device_type of 'cuda', but CUDA is not available. Disabling\n",
      "  warnings.warn(\n",
      "Evaluating... : 100%|█████████████████████████| 10/10 [00:20<00:00,  2.05s/data]\n",
      "Validation Loss:  11.481029987335205\n",
      "Validation Accuracy:  0.0\n",
      "Accuracy: 0.0%  (0/10)\n",
      "Precision: 0.0%\n",
      "Recall: 0.0%\n",
      "F1 Score: 0.0%\n",
      "THE END\n"
     ]
    }
   ],
   "source": [
    "# To perform inference on the structure, use the following command:\n",
    "\n",
    "!python infer.py --batch_size 1 --num_workers 0 --data_dir ../demo_data/demo_test.db --load_path ./output/2024-12-18_1338/checkpoints/checkpoint_0001.pth"
   ]
  },
  {
   "cell_type": "code",
   "execution_count": 7,
   "id": "477efad8-f896-4a57-9fdf-06fec51004dc",
   "metadata": {},
   "outputs": [
    {
     "name": "stdout",
     "output_type": "stream",
     "text": [
      "Loaded model from ./output/2024-12-18_1338/checkpoints/checkpoint_0001.pth\n",
      "Loaded data from: ['../demo_data/demo_test.db']\n",
      "Evaluating... :   0%|                                  | 0/10 [00:00<?, ?data/s]/Users/jacob/miniconda3/lib/python3.9/site-packages/torch/amp/autocast_mode.py:250: UserWarning: User provided device_type of 'cuda', but CUDA is not available. Disabling\n",
      "  warnings.warn(\n",
      "Evaluating... : 100%|█████████████████████████| 10/10 [00:18<00:00,  1.87s/data]\n",
      "Validation Loss:  11.481029033660889\n",
      "Validation Accuracy:  0.0\n",
      "Accuracy: 0.0%  (0/10)\n",
      "Precision: 0.0%\n",
      "Recall: 0.0%\n",
      "F1 Score: 0.0%\n",
      "THE END\n"
     ]
    }
   ],
   "source": [
    "# To infer the crystal system, run:\n",
    "\n",
    "!python infer2cs.py --batch_size 1 --num_workers 0 --data_dir ../demo_data/demo_test.db --load_path ./output/2024-12-18_1338/checkpoints/checkpoint_0001.pth"
   ]
  },
  {
   "cell_type": "code",
   "execution_count": 8,
   "id": "8cf09292-79bf-4d09-b6df-7304236bc5a5",
   "metadata": {},
   "outputs": [
    {
     "name": "stdout",
     "output_type": "stream",
     "text": [
      "Loaded model from ./output/2024-12-18_1338/checkpoints/checkpoint_0001.pth\n",
      "Loaded data from: ['../demo_data/demo_test.db']\n",
      "Evaluating... :   0%|                                  | 0/10 [00:00<?, ?data/s]/Users/jacob/miniconda3/lib/python3.9/site-packages/torch/amp/autocast_mode.py:250: UserWarning: User provided device_type of 'cuda', but CUDA is not available. Disabling\n",
      "  warnings.warn(\n",
      "Evaluating... : 100%|█████████████████████████| 10/10 [00:21<00:00,  2.20s/data]\n",
      "Validation Loss:  11.481027317047118\n",
      "Validation Accuracy:  0.0\n",
      "Accuracy: 0.0%  (0/10)\n",
      "Precision: 0.0%\n",
      "Recall: 0.0%\n",
      "F1 Score: 0.0%\n",
      "THE END\n"
     ]
    }
   ],
   "source": [
    "# To infer the space group, execute:\n",
    "\n",
    "!python infer2sg.py --batch_size 1 --num_workers 0 --data_dir ../demo_data/demo_test.db --load_path ./output/2024-12-18_1338/checkpoints/checkpoint_0001.pth"
   ]
  }
 ],
 "metadata": {
  "kernelspec": {
   "display_name": "Python 3 (ipykernel)",
   "language": "python",
   "name": "python3"
  },
  "language_info": {
   "codemirror_mode": {
    "name": "ipython",
    "version": 3
   },
   "file_extension": ".py",
   "mimetype": "text/x-python",
   "name": "python",
   "nbconvert_exporter": "python",
   "pygments_lexer": "ipython3",
   "version": "3.11.7"
  }
 },
 "nbformat": 4,
 "nbformat_minor": 5
}
